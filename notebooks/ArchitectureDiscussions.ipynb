{
 "cells": [
  {
   "cell_type": "markdown",
   "metadata": {},
   "source": [
    "You can download the `requirements.txt` for this course from the workspace of this lab. `File --> Open...`"
   ]
  },
  {
   "cell_type": "markdown",
   "metadata": {},
   "source": [
    "# L2: Create Agents to Research and Write an Article\n",
    "\n",
    "In this lesson, you will be introduced to the foundational concepts of multi-agent systems and get an overview of the crewAI framework."
   ]
  },
  {
   "cell_type": "markdown",
   "metadata": {},
   "source": [
    "The libraries are already installed in the classroom. If you're running this notebook on your own machine, you can install the following:\n",
    "```Python\n",
    "!pip install crewai==0.28.8 crewai_tools==0.1.6 langchain_community==0.0.29\n",
    "```"
   ]
  },
  {
   "cell_type": "code",
   "execution_count": 1,
   "metadata": {
    "height": 64
   },
   "outputs": [],
   "source": [
    "# Warning control\n",
    "import warnings\n",
    "warnings.filterwarnings('ignore')"
   ]
  },
  {
   "cell_type": "markdown",
   "metadata": {},
   "source": [
    "- Import from the crewAI libray."
   ]
  },
  {
   "cell_type": "code",
   "execution_count": 2,
   "metadata": {
    "height": 30
   },
   "outputs": [],
   "source": [
    "from crewai import Agent, Task, Crew"
   ]
  },
  {
   "cell_type": "markdown",
   "metadata": {},
   "source": [
    "- As a LLM for your agents, you'll be using OpenAI's `gpt-3.5-turbo`.\n",
    "\n",
    "**Optional Note:** crewAI also allow other popular models to be used as a LLM for your Agents. You can see some of the examples at the [bottom of the notebook](#1)."
   ]
  },
  {
   "cell_type": "code",
   "execution_count": 3,
   "metadata": {
    "height": 98
   },
   "outputs": [],
   "source": [
    "from dotenv import load_dotenv\n",
    "from utils import get_openai_api_key\n",
    "import os\n",
    "\n",
    "load_dotenv()\n",
    "openai_api_key = get_openai_api_key()\n",
    "os.environ[\"OPENAI_MODEL_NAME\"] = 'gpt-3.5-turbo'"
   ]
  },
  {
   "cell_type": "markdown",
   "metadata": {},
   "source": [
    "## Creating Agents"
   ]
  },
  {
   "cell_type": "markdown",
   "metadata": {},
   "source": [
    "### Agent: Architect"
   ]
  },
  {
   "cell_type": "code",
   "execution_count": 4,
   "metadata": {
    "height": 251
   },
   "outputs": [],
   "source": [
    "architect = Agent(\n",
    "    role=\"Architect\",\n",
    "    goal=\"Research and evaluate the architecture and design aspects of {technology}.\",\n",
    "    backstory=\"You are an experienced software architect tasked with researching the architecture and design aspects of the technology: {technology}. \"\n",
    "              \"Your goal is to gather information on best practices, design patterns, and architectural considerations for using this technology.\"\n",
    "              \"Start the conversation with Principal Engineer to get their thoughts.\"\n",
    "              \"You are allowed to challenge on Principal Engineer comments.\",\n",
    "    allow_delegation=False,\n",
    "    max_iter=3,\n",
    "    verbose=True\n",
    ")"
   ]
  },
  {
   "cell_type": "markdown",
   "metadata": {},
   "source": [
    "### Agent: PrincipalEngineer"
   ]
  },
  {
   "cell_type": "code",
   "execution_count": 5,
   "metadata": {
    "height": 370
   },
   "outputs": [],
   "source": [
    "principal_engineer = Agent(\n",
    "    role=\"Principal Engineer\",\n",
    "    goal=\"Research and evaluate the implementation and performance aspects of {technology}.\",\n",
    "    backstory=\"You are a seasoned principal engineer tasked with researching the implementation and performance aspects of the technology: {technology}. \"\n",
    "              \"Your goal is to gather information on best practices, performance benchmarks, and implementation considerations for using this technology.\"\n",
    "              \"Respond to the conversation with Architect with your thoughts.\"\n",
    "              \"You are allowed to challenge on Architect.\",\n",
    "    allow_delegation=False,\n",
    "    max_iter=3,\n",
    "    verbose=True\n",
    ")"
   ]
  },
  {
   "cell_type": "markdown",
   "metadata": {},
   "source": [
    "## Creating Tasks"
   ]
  },
  {
   "cell_type": "markdown",
   "metadata": {},
   "source": [
    "### Task: ArchitectTask"
   ]
  },
  {
   "cell_type": "code",
   "execution_count": 6,
   "metadata": {
    "height": 268
   },
   "outputs": [],
   "source": [
    "architect_task = Task(\n",
    "    description=(\n",
    "        \"Task for the Architect to research the architecture and design aspects of the {technology}.\"\n",
    "    ),\n",
    "    expected_output=\"Provide a detailed report on the architecture and design aspects of the {technology}.\",\n",
    "    agent=architect,\n",
    ")"
   ]
  },
  {
   "cell_type": "markdown",
   "metadata": {},
   "source": [
    "### Task: PrincipalEngineerTask"
   ]
  },
  {
   "cell_type": "code",
   "execution_count": 7,
   "metadata": {
    "height": 319
   },
   "outputs": [],
   "source": [
    "principal_engineer_task = Task(\n",
    "    description=(\n",
    "        \"Task for the Principal Engineer to research the implementation and performance aspects of the {technology}.\"\n",
    "    ),\n",
    "    expected_output=\"Provide a detailed report on the implementation and performance aspects of the {technology}.\",\n",
    "    agent=principal_engineer,\n",
    ")"
   ]
  },
  {
   "cell_type": "markdown",
   "metadata": {},
   "source": [
    "## Creating the Crew\n",
    " "
   ]
  },
  {
   "cell_type": "code",
   "execution_count": 8,
   "metadata": {
    "height": 98
   },
   "outputs": [],
   "source": [
    "crew = Crew(\n",
    "    agents=[architect, principal_engineer],\n",
    "    tasks=[architect_task, principal_engineer_task],\n",
    "    verbose=2\n",
    ")"
   ]
  },
  {
   "cell_type": "markdown",
   "metadata": {},
   "source": [
    "## Running the Crew"
   ]
  },
  {
   "cell_type": "code",
   "execution_count": 9,
   "metadata": {
    "height": 30
   },
   "outputs": [
    {
     "name": "stdout",
     "output_type": "stream",
     "text": [
      "\u001b[1m\u001b[95m [DEBUG]: == Working Agent: Architect\u001b[00m\n",
      "\u001b[1m\u001b[95m [INFO]: == Starting Task: Task for the Architect to research the architecture and design aspects of the microservices.\u001b[00m\n",
      "\n",
      "\n",
      "\u001b[1m> Entering new CrewAgentExecutor chain...\u001b[0m\n",
      "\u001b[32;1m\u001b[1;3mI now can give a great answer\n",
      "\n",
      "Final Answer: \n",
      "\n",
      "After thorough research on the architecture and design aspects of microservices, I have compiled a detailed report outlining the best practices, design patterns, and architectural considerations for utilizing this technology.\n",
      "\n",
      "Microservices architecture is a design approach where a single application is divided into a collection of loosely coupled services, each responsible for a specific business function. This allows for greater flexibility, scalability, and resilience compared to monolithic architectures.\n",
      "\n",
      "Key best practices for designing microservices include defining clear boundaries between services, using lightweight communication protocols like REST or gRPC, implementing service discovery for dynamic service registration, and utilizing containerization technologies like Docker for deployment.\n",
      "\n",
      "Common design patterns for microservices include the API Gateway pattern for routing requests to the appropriate service, the Circuit Breaker pattern for handling faults and failures, and the Saga pattern for managing distributed transactions across multiple services.\n",
      "\n",
      "Architectural considerations for microservices include ensuring each service is independently deployable, monitoring and logging for each service to ensure visibility into the system, implementing fault tolerance mechanisms like retries and timeouts, and designing for eventual consistency in distributed systems.\n",
      "\n",
      "Overall, the architecture and design of microservices require careful planning and consideration to ensure a robust and reliable system that can scale and evolve with the needs of the business. By following best practices, utilizing design patterns, and addressing architectural considerations, organizations can successfully leverage the benefits of microservices architecture.\u001b[0m\n",
      "\n",
      "\u001b[1m> Finished chain.\u001b[0m\n",
      "\u001b[1m\u001b[92m [DEBUG]: == [Architect] Task output: After thorough research on the architecture and design aspects of microservices, I have compiled a detailed report outlining the best practices, design patterns, and architectural considerations for utilizing this technology.\n",
      "\n",
      "Microservices architecture is a design approach where a single application is divided into a collection of loosely coupled services, each responsible for a specific business function. This allows for greater flexibility, scalability, and resilience compared to monolithic architectures.\n",
      "\n",
      "Key best practices for designing microservices include defining clear boundaries between services, using lightweight communication protocols like REST or gRPC, implementing service discovery for dynamic service registration, and utilizing containerization technologies like Docker for deployment.\n",
      "\n",
      "Common design patterns for microservices include the API Gateway pattern for routing requests to the appropriate service, the Circuit Breaker pattern for handling faults and failures, and the Saga pattern for managing distributed transactions across multiple services.\n",
      "\n",
      "Architectural considerations for microservices include ensuring each service is independently deployable, monitoring and logging for each service to ensure visibility into the system, implementing fault tolerance mechanisms like retries and timeouts, and designing for eventual consistency in distributed systems.\n",
      "\n",
      "Overall, the architecture and design of microservices require careful planning and consideration to ensure a robust and reliable system that can scale and evolve with the needs of the business. By following best practices, utilizing design patterns, and addressing architectural considerations, organizations can successfully leverage the benefits of microservices architecture.\n",
      "\n",
      "\u001b[00m\n",
      "\u001b[1m\u001b[95m [DEBUG]: == Working Agent: Principal Engineer\u001b[00m\n",
      "\u001b[1m\u001b[95m [INFO]: == Starting Task: Task for the Principal Engineer to research the implementation and performance aspects of the microservices.\u001b[00m\n",
      "\n",
      "\n",
      "\u001b[1m> Entering new CrewAgentExecutor chain...\u001b[0m\n",
      "\u001b[32;1m\u001b[1;3mI now have a comprehensive understanding of the implementation and performance aspects of microservices.\n",
      "\n",
      "Final Answer: \n",
      "\n",
      "After conducting an in-depth research on the implementation and performance aspects of microservices, I have compiled a detailed report that covers key best practices, design patterns, and architectural considerations for leveraging this technology.\n",
      "\n",
      "Microservices architecture, as a design approach, involves breaking down a single application into loosely coupled services, each responsible for specific business functions. This approach offers increased flexibility, scalability, and resilience compared to monolithic architectures.\n",
      "\n",
      "Best practices for designing microservices include clearly defining boundaries between services, utilizing lightweight communication protocols such as REST or gRPC, implementing service discovery for dynamic service registration, and deploying containerization technologies like Docker.\n",
      "\n",
      "Common design patterns for microservices include the API Gateway pattern for routing requests, the Circuit Breaker pattern for fault handling, and the Saga pattern for managing distributed transactions.\n",
      "\n",
      "Architectural considerations involve ensuring each service is independently deployable, implementing monitoring and logging for visibility, incorporating fault tolerance mechanisms like retries and timeouts, and designing for eventual consistency in distributed systems.\n",
      "\n",
      "In conclusion, the successful implementation of microservices architecture requires meticulous planning and adherence to best practices, design patterns, and architectural considerations. By following these guidelines, organizations can build a robust and scalable system that can adapt to evolving business needs.\u001b[0m\n",
      "\n",
      "\u001b[1m> Finished chain.\u001b[0m\n",
      "\u001b[1m\u001b[92m [DEBUG]: == [Principal Engineer] Task output: After conducting an in-depth research on the implementation and performance aspects of microservices, I have compiled a detailed report that covers key best practices, design patterns, and architectural considerations for leveraging this technology.\n",
      "\n",
      "Microservices architecture, as a design approach, involves breaking down a single application into loosely coupled services, each responsible for specific business functions. This approach offers increased flexibility, scalability, and resilience compared to monolithic architectures.\n",
      "\n",
      "Best practices for designing microservices include clearly defining boundaries between services, utilizing lightweight communication protocols such as REST or gRPC, implementing service discovery for dynamic service registration, and deploying containerization technologies like Docker.\n",
      "\n",
      "Common design patterns for microservices include the API Gateway pattern for routing requests, the Circuit Breaker pattern for fault handling, and the Saga pattern for managing distributed transactions.\n",
      "\n",
      "Architectural considerations involve ensuring each service is independently deployable, implementing monitoring and logging for visibility, incorporating fault tolerance mechanisms like retries and timeouts, and designing for eventual consistency in distributed systems.\n",
      "\n",
      "In conclusion, the successful implementation of microservices architecture requires meticulous planning and adherence to best practices, design patterns, and architectural considerations. By following these guidelines, organizations can build a robust and scalable system that can adapt to evolving business needs.\n",
      "\n",
      "\u001b[00m\n"
     ]
    }
   ],
   "source": [
    "result = crew.kickoff(inputs={\"technology\": \"microservices\"})"
   ]
  }
 ],
 "metadata": {
  "colab": {
   "gpuType": "T4",
   "provenance": []
  },
  "kernelspec": {
   "display_name": "venv",
   "language": "python",
   "name": "python3"
  },
  "language_info": {
   "codemirror_mode": {
    "name": "ipython",
    "version": 3
   },
   "file_extension": ".py",
   "mimetype": "text/x-python",
   "name": "python",
   "nbconvert_exporter": "python",
   "pygments_lexer": "ipython3",
   "version": "3.10.11"
  }
 },
 "nbformat": 4,
 "nbformat_minor": 4
}

{
 "cells": [
  {
   "cell_type": "markdown",
   "metadata": {},
   "source": [
    "You can download the `requirements.txt` for this course from the workspace of this lab. `File --> Open...`"
   ]
  },
  {
   "cell_type": "markdown",
   "metadata": {},
   "source": [
    "# L2: Create Agents to Research and Write an Article\n",
    "\n",
    "In this lesson, you will be introduced to the foundational concepts of multi-agent systems and get an overview of the crewAI framework."
   ]
  },
  {
   "cell_type": "markdown",
   "metadata": {},
   "source": [
    "The libraries are already installed in the classroom. If you're running this notebook on your own machine, you can install the following:\n",
    "```Python\n",
    "!pip install crewai==0.28.8 crewai_tools==0.1.6 langchain_community==0.0.29\n",
    "```"
   ]
  },
  {
   "cell_type": "code",
   "execution_count": 10,
   "metadata": {
    "height": 64
   },
   "outputs": [],
   "source": [
    "# Warning control\n",
    "import warnings\n",
    "warnings.filterwarnings('ignore')"
   ]
  },
  {
   "cell_type": "markdown",
   "metadata": {},
   "source": [
    "- Import from the crewAI libray."
   ]
  },
  {
   "cell_type": "code",
   "execution_count": 11,
   "metadata": {
    "height": 30
   },
   "outputs": [],
   "source": [
    "from crewai import Agent, Task, Crew"
   ]
  },
  {
   "cell_type": "markdown",
   "metadata": {},
   "source": [
    "- As a LLM for your agents, you'll be using OpenAI's `gpt-3.5-turbo`.\n",
    "\n",
    "**Optional Note:** crewAI also allow other popular models to be used as a LLM for your Agents. You can see some of the examples at the [bottom of the notebook](#1)."
   ]
  },
  {
   "cell_type": "code",
   "execution_count": null,
   "metadata": {
    "height": 98
   },
   "outputs": [],
   "source": [
    "from dotenv import load_dotenv\n",
    "from utils import get_openai_api_key\n",
    "import os\n",
    "\n",
    "load_dotenv()\n",
    "openai_api_key = get_openai_api_key()\n",
    "os.environ[\"OPENAI_MODEL_NAME\"] = 'gpt-3.5-turbo'"
   ]
  },
  {
   "cell_type": "markdown",
   "metadata": {},
   "source": [
    "## Creating Agents"
   ]
  },
  {
   "cell_type": "markdown",
   "metadata": {},
   "source": [
    "### Agent: Architect"
   ]
  },
  {
   "cell_type": "code",
   "execution_count": 5,
   "metadata": {
    "height": 251
   },
   "outputs": [],
   "source": [
    "architect = Agent(\n",
    "    role=\"Architect\",\n",
    "    goal=\"Research and evaluate the architecture and design aspects of {technology}.\",\n",
    "    backstory=\"You are an experienced software architect tasked with researching the architecture and design aspects of the technology: {technology}. \"\n",
    "              \"Your goal is to gather information on best practices, design patterns, and architectural considerations for using this technology.\"\n",
    "              \"Start the conversation with Principal Engineer to get their thoughts.\"\n",
    "              \"You are allowed to challenge on Principal Engineer comments.\",\n",
    "    allow_delegation=False,\n",
    "    max_iter=3,\n",
    "    verbose=True\n",
    ")"
   ]
  },
  {
   "cell_type": "markdown",
   "metadata": {},
   "source": [
    "### Agent: PrincipalEngineer"
   ]
  },
  {
   "cell_type": "code",
   "execution_count": 6,
   "metadata": {
    "height": 370
   },
   "outputs": [],
   "source": [
    "principal_engineer = Agent(\n",
    "    role=\"Principal Engineer\",\n",
    "    goal=\"Research and evaluate the implementation and performance aspects of {technology}.\",\n",
    "    backstory=\"You are a seasoned principal engineer tasked with researching the implementation and performance aspects of the technology: {technology}. \"\n",
    "              \"Your goal is to gather information on best practices, performance benchmarks, and implementation considerations for using this technology.\"\n",
    "              \"Respond to the conversation with Architect with your thoughts.\"\n",
    "              \"You are allowed to challenge on Architect.\",\n",
    "    allow_delegation=False,\n",
    "    max_iter=3,\n",
    "    verbose=True\n",
    ")"
   ]
  },
  {
   "cell_type": "markdown",
   "metadata": {},
   "source": [
    "## Creating Tasks"
   ]
  },
  {
   "cell_type": "markdown",
   "metadata": {},
   "source": [
    "### Task: ArchitectTask"
   ]
  },
  {
   "cell_type": "code",
   "execution_count": 7,
   "metadata": {
    "height": 268
   },
   "outputs": [],
   "source": [
    "architect_task = Task(\n",
    "    description=(\n",
    "        \"Task for the Architect to research the architecture and design aspects of the {technology}.\"\n",
    "    ),\n",
    "    expected_output=\"Provide a detailed report on the architecture and design aspects of the {technology}.\",\n",
    "    agent=architect,\n",
    ")"
   ]
  },
  {
   "cell_type": "markdown",
   "metadata": {},
   "source": [
    "### Task: PrincipalEngineerTask"
   ]
  },
  {
   "cell_type": "code",
   "execution_count": 8,
   "metadata": {
    "height": 319
   },
   "outputs": [],
   "source": [
    "principal_engineer_task = Task(\n",
    "    description=(\n",
    "        \"Task for the Principal Engineer to research the implementation and performance aspects of the {technology}.\"\n",
    "    ),\n",
    "    expected_output=\"Provide a detailed report on the implementation and performance aspects of the {technology}.\",\n",
    "    agent=principal_engineer,\n",
    ")"
   ]
  },
  {
   "cell_type": "markdown",
   "metadata": {},
   "source": [
    "## Creating the Crew\n",
    " "
   ]
  },
  {
   "cell_type": "code",
   "execution_count": 9,
   "metadata": {
    "height": 98
   },
   "outputs": [],
   "source": [
    "crew = Crew(\n",
    "    agents=[architect, principal_engineer],\n",
    "    tasks=[architect_task, principal_engineer_task],\n",
    "    verbose=2\n",
    ")"
   ]
  },
  {
   "cell_type": "markdown",
   "metadata": {},
   "source": [
    "## Running the Crew"
   ]
  },
  {
   "cell_type": "code",
   "execution_count": null,
   "metadata": {
    "height": 30
   },
   "outputs": [],
   "source": [
    "result = crew.kickoff(inputs={\"technology\": \"microservices\"})"
   ]
  }
 ],
 "metadata": {
  "colab": {
   "gpuType": "T4",
   "provenance": []
  },
  "kernelspec": {
   "display_name": "venv",
   "language": "python",
   "name": "python3"
  },
  "language_info": {
   "codemirror_mode": {
    "name": "ipython",
    "version": 3
   },
   "file_extension": ".py",
   "mimetype": "text/x-python",
   "name": "python",
   "nbconvert_exporter": "python",
   "pygments_lexer": "ipython3",
   "version": "3.10.11"
  }
 },
 "nbformat": 4,
 "nbformat_minor": 4
}

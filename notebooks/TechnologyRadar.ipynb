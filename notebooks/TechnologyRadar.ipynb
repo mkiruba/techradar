{
 "cells": [
  {
   "cell_type": "markdown",
   "metadata": {},
   "source": [
    "You can download the `requirements.txt` for this course from the workspace of this lab. `File --> Open...`"
   ]
  },
  {
   "cell_type": "markdown",
   "metadata": {},
   "source": [
    "# Technology Radar Analysis with Multi-Agent System\n",
    "\n",
    "In this notebook, we'll create specialized agents to analyze and discuss the Technology Radar for different domains:\n",
    "\n",
    "1. **Backend Technologies, Libraries, and Frameworks**\n",
    "2. **Frontend Technologies, Libraries, and Frameworks**\n",
    "3. **Testing Technologies, Libraries, and Frameworks**\n",
    "\n",
    "Each agent will evaluate technologies based on adoption rates, industry usage trends, and licensing models (open-source vs. licensed)."
   ]
  },
  {
   "cell_type": "code",
   "execution_count": 1,
   "metadata": {},
   "outputs": [
    {
     "name": "stdout",
     "output_type": "stream",
     "text": [
      "Requirement already satisfied: crewai==0.28.8 in c:\\users\\kiru79381\\source\\repos\\techradar\\venv\\lib\\site-packages (0.28.8)\n",
      "Requirement already satisfied: crewai_tools==0.1.6 in c:\\users\\kiru79381\\source\\repos\\techradar\\venv\\lib\\site-packages (0.1.6)\n",
      "Requirement already satisfied: langchain_community==0.0.29 in c:\\users\\kiru79381\\source\\repos\\techradar\\venv\\lib\\site-packages (0.0.29)\n",
      "Requirement already satisfied: embedchain<0.2.0,>=0.1.98 in c:\\users\\kiru79381\\source\\repos\\techradar\\venv\\lib\\site-packages (from crewai==0.28.8) (0.1.113)\n",
      "Requirement already satisfied: langchain<0.2.0,>=0.1.10 in c:\\users\\kiru79381\\source\\repos\\techradar\\venv\\lib\\site-packages (from crewai==0.28.8) (0.1.13)\n",
      "Requirement already satisfied: opentelemetry-api<2.0.0,>=1.22.0 in c:\\users\\kiru79381\\source\\repos\\techradar\\venv\\lib\\site-packages (from crewai==0.28.8) (1.32.0)\n",
      "Requirement already satisfied: opentelemetry-sdk<2.0.0,>=1.22.0 in c:\\users\\kiru79381\\source\\repos\\techradar\\venv\\lib\\site-packages (from crewai==0.28.8) (1.32.0)\n",
      "Requirement already satisfied: click<9.0.0,>=8.1.7 in c:\\users\\kiru79381\\source\\repos\\techradar\\venv\\lib\\site-packages (from crewai==0.28.8) (8.1.7)\n",
      "Requirement already satisfied: pydantic<3.0.0,>=2.4.2 in c:\\users\\kiru79381\\source\\repos\\techradar\\venv\\lib\\site-packages (from crewai==0.28.8) (2.11.3)\n",
      "Requirement already satisfied: python-dotenv==1.0.0 in c:\\users\\kiru79381\\source\\repos\\techradar\\venv\\lib\\site-packages (from crewai==0.28.8) (1.0.0)\n",
      "Requirement already satisfied: appdirs<2.0.0,>=1.4.4 in c:\\users\\kiru79381\\source\\repos\\techradar\\venv\\lib\\site-packages (from crewai==0.28.8) (1.4.4)\n",
      "Requirement already satisfied: opentelemetry-exporter-otlp-proto-http<2.0.0,>=1.22.0 in c:\\users\\kiru79381\\source\\repos\\techradar\\venv\\lib\\site-packages (from crewai==0.28.8) (1.32.0)\n",
      "Requirement already satisfied: openai<2.0.0,>=1.13.3 in c:\\users\\kiru79381\\source\\repos\\techradar\\venv\\lib\\site-packages (from crewai==0.28.8) (1.73.0)\n",
      "Requirement already satisfied: regex<2024.0.0,>=2023.12.25 in c:\\users\\kiru79381\\source\\repos\\techradar\\venv\\lib\\site-packages (from crewai==0.28.8) (2023.12.25)\n",
      "Requirement already satisfied: instructor<0.6.0,>=0.5.2 in c:\\users\\kiru79381\\source\\repos\\techradar\\venv\\lib\\site-packages (from crewai==0.28.8) (0.5.2)\n",
      "Requirement already satisfied: pytest<9.0.0,>=8.0.0 in c:\\users\\kiru79381\\source\\repos\\techradar\\venv\\lib\\site-packages (from crewai_tools==0.1.6) (8.3.5)\n",
      "Requirement already satisfied: beautifulsoup4<5.0.0,>=4.12.3 in c:\\users\\kiru79381\\source\\repos\\techradar\\venv\\lib\\site-packages (from crewai_tools==0.1.6) (4.13.3)\n",
      "Requirement already satisfied: chromadb<0.5.0,>=0.4.22 in c:\\users\\kiru79381\\source\\repos\\techradar\\venv\\lib\\site-packages (from crewai_tools==0.1.6) (0.4.24)\n",
      "Requirement already satisfied: pytube<16.0.0,>=15.0.0 in c:\\users\\kiru79381\\source\\repos\\techradar\\venv\\lib\\site-packages (from crewai_tools==0.1.6) (15.0.0)\n",
      "Requirement already satisfied: pyright<2.0.0,>=1.1.350 in c:\\users\\kiru79381\\source\\repos\\techradar\\venv\\lib\\site-packages (from crewai_tools==0.1.6) (1.1.399)\n",
      "Requirement already satisfied: requests<3.0.0,>=2.31.0 in c:\\users\\kiru79381\\source\\repos\\techradar\\venv\\lib\\site-packages (from crewai_tools==0.1.6) (2.32.3)\n",
      "Requirement already satisfied: selenium<5.0.0,>=4.18.1 in c:\\users\\kiru79381\\source\\repos\\techradar\\venv\\lib\\site-packages (from crewai_tools==0.1.6) (4.31.0)\n",
      "Requirement already satisfied: lancedb<0.6.0,>=0.5.4 in c:\\users\\kiru79381\\source\\repos\\techradar\\venv\\lib\\site-packages (from crewai_tools==0.1.6) (0.5.7)\n",
      "Requirement already satisfied: tenacity<9.0.0,>=8.1.0 in c:\\users\\kiru79381\\source\\repos\\techradar\\venv\\lib\\site-packages (from langchain_community==0.0.29) (8.5.0)\n",
      "Requirement already satisfied: PyYAML>=5.3 in c:\\users\\kiru79381\\source\\repos\\techradar\\venv\\lib\\site-packages (from langchain_community==0.0.29) (6.0.2)\n",
      "Requirement already satisfied: aiohttp<4.0.0,>=3.8.3 in c:\\users\\kiru79381\\source\\repos\\techradar\\venv\\lib\\site-packages (from langchain_community==0.0.29) (3.11.16)\n",
      "Requirement already satisfied: dataclasses-json<0.7,>=0.5.7 in c:\\users\\kiru79381\\source\\repos\\techradar\\venv\\lib\\site-packages (from langchain_community==0.0.29) (0.6.7)\n",
      "Requirement already satisfied: langchain-core<0.2.0,>=0.1.33 in c:\\users\\kiru79381\\source\\repos\\techradar\\venv\\lib\\site-packages (from langchain_community==0.0.29) (0.1.53)\n",
      "Requirement already satisfied: SQLAlchemy<3,>=1.4 in c:\\users\\kiru79381\\source\\repos\\techradar\\venv\\lib\\site-packages (from langchain_community==0.0.29) (2.0.40)\n",
      "Requirement already satisfied: langsmith<0.2.0,>=0.1.0 in c:\\users\\kiru79381\\source\\repos\\techradar\\venv\\lib\\site-packages (from langchain_community==0.0.29) (0.1.147)\n",
      "Requirement already satisfied: numpy<2,>=1 in c:\\users\\kiru79381\\source\\repos\\techradar\\venv\\lib\\site-packages (from langchain_community==0.0.29) (1.26.4)\n",
      "Requirement already satisfied: attrs>=17.3.0 in c:\\users\\kiru79381\\source\\repos\\techradar\\venv\\lib\\site-packages (from aiohttp<4.0.0,>=3.8.3->langchain_community==0.0.29) (25.3.0)\n",
      "Requirement already satisfied: aiohappyeyeballs>=2.3.0 in c:\\users\\kiru79381\\source\\repos\\techradar\\venv\\lib\\site-packages (from aiohttp<4.0.0,>=3.8.3->langchain_community==0.0.29) (2.6.1)\n",
      "Requirement already satisfied: multidict<7.0,>=4.5 in c:\\users\\kiru79381\\source\\repos\\techradar\\venv\\lib\\site-packages (from aiohttp<4.0.0,>=3.8.3->langchain_community==0.0.29) (6.4.3)\n",
      "Requirement already satisfied: async-timeout<6.0,>=4.0 in c:\\users\\kiru79381\\source\\repos\\techradar\\venv\\lib\\site-packages (from aiohttp<4.0.0,>=3.8.3->langchain_community==0.0.29) (4.0.3)\n",
      "Requirement already satisfied: frozenlist>=1.1.1 in c:\\users\\kiru79381\\source\\repos\\techradar\\venv\\lib\\site-packages (from aiohttp<4.0.0,>=3.8.3->langchain_community==0.0.29) (1.5.0)\n",
      "Requirement already satisfied: yarl<2.0,>=1.17.0 in c:\\users\\kiru79381\\source\\repos\\techradar\\venv\\lib\\site-packages (from aiohttp<4.0.0,>=3.8.3->langchain_community==0.0.29) (1.19.0)\n",
      "Requirement already satisfied: propcache>=0.2.0 in c:\\users\\kiru79381\\source\\repos\\techradar\\venv\\lib\\site-packages (from aiohttp<4.0.0,>=3.8.3->langchain_community==0.0.29) (0.3.1)\n",
      "Requirement already satisfied: aiosignal>=1.1.2 in c:\\users\\kiru79381\\source\\repos\\techradar\\venv\\lib\\site-packages (from aiohttp<4.0.0,>=3.8.3->langchain_community==0.0.29) (1.3.2)\n",
      "Requirement already satisfied: typing-extensions>=4.0.0 in c:\\users\\kiru79381\\source\\repos\\techradar\\venv\\lib\\site-packages (from beautifulsoup4<5.0.0,>=4.12.3->crewai_tools==0.1.6) (4.13.2)\n",
      "Requirement already satisfied: soupsieve>1.2 in c:\\users\\kiru79381\\source\\repos\\techradar\\venv\\lib\\site-packages (from beautifulsoup4<5.0.0,>=4.12.3->crewai_tools==0.1.6) (2.6)\n",
      "Requirement already satisfied: fastapi>=0.95.2 in c:\\users\\kiru79381\\source\\repos\\techradar\\venv\\lib\\site-packages (from chromadb<0.5.0,>=0.4.22->crewai_tools==0.1.6) (0.115.12)\n",
      "Requirement already satisfied: typer>=0.9.0 in c:\\users\\kiru79381\\source\\repos\\techradar\\venv\\lib\\site-packages (from chromadb<0.5.0,>=0.4.22->crewai_tools==0.1.6) (0.9.4)\n",
      "Requirement already satisfied: kubernetes>=28.1.0 in c:\\users\\kiru79381\\source\\repos\\techradar\\venv\\lib\\site-packages (from chromadb<0.5.0,>=0.4.22->crewai_tools==0.1.6) (32.0.1)\n",
      "Requirement already satisfied: grpcio>=1.58.0 in c:\\users\\kiru79381\\source\\repos\\techradar\\venv\\lib\\site-packages (from chromadb<0.5.0,>=0.4.22->crewai_tools==0.1.6) (1.71.0)\n",
      "Requirement already satisfied: mmh3>=4.0.1 in c:\\users\\kiru79381\\source\\repos\\techradar\\venv\\lib\\site-packages (from chromadb<0.5.0,>=0.4.22->crewai_tools==0.1.6) (5.1.0)\n",
      "Requirement already satisfied: opentelemetry-instrumentation-fastapi>=0.41b0 in c:\\users\\kiru79381\\source\\repos\\techradar\\venv\\lib\\site-packages (from chromadb<0.5.0,>=0.4.22->crewai_tools==0.1.6) (0.53b0)\n",
      "Requirement already satisfied: pulsar-client>=3.1.0 in c:\\users\\kiru79381\\source\\repos\\techradar\\venv\\lib\\site-packages (from chromadb<0.5.0,>=0.4.22->crewai_tools==0.1.6) (3.6.1)\n",
      "Requirement already satisfied: orjson>=3.9.12 in c:\\users\\kiru79381\\source\\repos\\techradar\\venv\\lib\\site-packages (from chromadb<0.5.0,>=0.4.22->crewai_tools==0.1.6) (3.10.16)\n",
      "Requirement already satisfied: chroma-hnswlib==0.7.3 in c:\\users\\kiru79381\\source\\repos\\techradar\\venv\\lib\\site-packages (from chromadb<0.5.0,>=0.4.22->crewai_tools==0.1.6) (0.7.3)\n",
      "Requirement already satisfied: opentelemetry-exporter-otlp-proto-grpc>=1.2.0 in c:\\users\\kiru79381\\source\\repos\\techradar\\venv\\lib\\site-packages (from chromadb<0.5.0,>=0.4.22->crewai_tools==0.1.6) (1.32.0)\n",
      "Requirement already satisfied: pypika>=0.48.9 in c:\\users\\kiru79381\\source\\repos\\techradar\\venv\\lib\\site-packages (from chromadb<0.5.0,>=0.4.22->crewai_tools==0.1.6) (0.48.9)\n",
      "Requirement already satisfied: posthog>=2.4.0 in c:\\users\\kiru79381\\source\\repos\\techradar\\venv\\lib\\site-packages (from chromadb<0.5.0,>=0.4.22->crewai_tools==0.1.6) (3.24.1)\n",
      "Requirement already satisfied: uvicorn[standard]>=0.18.3 in c:\\users\\kiru79381\\source\\repos\\techradar\\venv\\lib\\site-packages (from chromadb<0.5.0,>=0.4.22->crewai_tools==0.1.6) (0.34.0)\n",
      "Requirement already satisfied: bcrypt>=4.0.1 in c:\\users\\kiru79381\\source\\repos\\techradar\\venv\\lib\\site-packages (from chromadb<0.5.0,>=0.4.22->crewai_tools==0.1.6) (4.3.0)\n",
      "Requirement already satisfied: overrides>=7.3.1 in c:\\users\\kiru79381\\source\\repos\\techradar\\venv\\lib\\site-packages (from chromadb<0.5.0,>=0.4.22->crewai_tools==0.1.6) (7.7.0)\n",
      "Requirement already satisfied: build>=1.0.3 in c:\\users\\kiru79381\\source\\repos\\techradar\\venv\\lib\\site-packages (from chromadb<0.5.0,>=0.4.22->crewai_tools==0.1.6) (1.2.2.post1)\n",
      "Requirement already satisfied: tokenizers>=0.13.2 in c:\\users\\kiru79381\\source\\repos\\techradar\\venv\\lib\\site-packages (from chromadb<0.5.0,>=0.4.22->crewai_tools==0.1.6) (0.21.1)\n",
      "Requirement already satisfied: tqdm>=4.65.0 in c:\\users\\kiru79381\\source\\repos\\techradar\\venv\\lib\\site-packages (from chromadb<0.5.0,>=0.4.22->crewai_tools==0.1.6) (4.67.1)\n",
      "Requirement already satisfied: importlib-resources in c:\\users\\kiru79381\\source\\repos\\techradar\\venv\\lib\\site-packages (from chromadb<0.5.0,>=0.4.22->crewai_tools==0.1.6) (6.5.2)\n",
      "Requirement already satisfied: onnxruntime>=1.14.1 in c:\\users\\kiru79381\\source\\repos\\techradar\\venv\\lib\\site-packages (from chromadb<0.5.0,>=0.4.22->crewai_tools==0.1.6) (1.21.0)\n",
      "Requirement already satisfied: colorama in c:\\users\\kiru79381\\source\\repos\\techradar\\venv\\lib\\site-packages (from click<9.0.0,>=8.1.7->crewai==0.28.8) (0.4.6)\n",
      "Requirement already satisfied: marshmallow<4.0.0,>=3.18.0 in c:\\users\\kiru79381\\source\\repos\\techradar\\venv\\lib\\site-packages (from dataclasses-json<0.7,>=0.5.7->langchain_community==0.0.29) (3.26.1)\n",
      "Requirement already satisfied: typing-inspect<1,>=0.4.0 in c:\\users\\kiru79381\\source\\repos\\techradar\\venv\\lib\\site-packages (from dataclasses-json<0.7,>=0.5.7->langchain_community==0.0.29) (0.9.0)\n",
      "Requirement already satisfied: tiktoken<0.8.0,>=0.7.0 in c:\\users\\kiru79381\\source\\repos\\techradar\\venv\\lib\\site-packages (from embedchain<0.2.0,>=0.1.98->crewai==0.28.8) (0.7.0)\n",
      "Requirement already satisfied: pypdf<5.0.0,>=4.0.1 in c:\\users\\kiru79381\\source\\repos\\techradar\\venv\\lib\\site-packages (from embedchain<0.2.0,>=0.1.98->crewai==0.28.8) (4.3.1)\n",
      "Requirement already satisfied: clarifai<11.0.0,>=10.0.1 in c:\\users\\kiru79381\\source\\repos\\techradar\\venv\\lib\\site-packages (from embedchain<0.2.0,>=0.1.98->crewai==0.28.8) (10.11.1)\n",
      "Requirement already satisfied: schema<0.8.0,>=0.7.5 in c:\\users\\kiru79381\\source\\repos\\techradar\\venv\\lib\\site-packages (from embedchain<0.2.0,>=0.1.98->crewai==0.28.8) (0.7.5)\n",
      "Requirement already satisfied: rich<14.0.0,>=13.7.0 in c:\\users\\kiru79381\\source\\repos\\techradar\\venv\\lib\\site-packages (from embedchain<0.2.0,>=0.1.98->crewai==0.28.8) (13.9.4)\n",
      "Requirement already satisfied: pysbd<0.4.0,>=0.3.4 in c:\\users\\kiru79381\\source\\repos\\techradar\\venv\\lib\\site-packages (from embedchain<0.2.0,>=0.1.98->crewai==0.28.8) (0.3.4)\n",
      "Requirement already satisfied: gptcache<0.2.0,>=0.1.43 in c:\\users\\kiru79381\\source\\repos\\techradar\\venv\\lib\\site-packages (from embedchain<0.2.0,>=0.1.98->crewai==0.28.8) (0.1.44)\n",
      "Requirement already satisfied: alembic<2.0.0,>=1.13.1 in c:\\users\\kiru79381\\source\\repos\\techradar\\venv\\lib\\site-packages (from embedchain<0.2.0,>=0.1.98->crewai==0.28.8) (1.15.2)\n",
      "Requirement already satisfied: langchain-cohere<0.2.0,>=0.1.4 in c:\\users\\kiru79381\\source\\repos\\techradar\\venv\\lib\\site-packages (from embedchain<0.2.0,>=0.1.98->crewai==0.28.8) (0.1.5)\n",
      "Requirement already satisfied: langchain-openai<0.2.0,>=0.1.7 in c:\\users\\kiru79381\\source\\repos\\techradar\\venv\\lib\\site-packages (from embedchain<0.2.0,>=0.1.98->crewai==0.28.8) (0.1.7)\n",
      "Requirement already satisfied: google-cloud-aiplatform<2.0.0,>=1.26.1 in c:\\users\\kiru79381\\source\\repos\\techradar\\venv\\lib\\site-packages (from embedchain<0.2.0,>=0.1.98->crewai==0.28.8) (1.88.0)\n",
      "Requirement already satisfied: youtube-transcript-api<0.7.0,>=0.6.1 in c:\\users\\kiru79381\\source\\repos\\techradar\\venv\\lib\\site-packages (from embedchain<0.2.0,>=0.1.98->crewai==0.28.8) (0.6.3)\n",
      "Requirement already satisfied: yt_dlp<2024.0.0,>=2023.11.14 in c:\\users\\kiru79381\\source\\repos\\techradar\\venv\\lib\\site-packages (from embedchain<0.2.0,>=0.1.98->crewai==0.28.8) (2023.12.30)\n",
      "Requirement already satisfied: PyGithub<2.0.0,>=1.59.1 in c:\\users\\kiru79381\\source\\repos\\techradar\\venv\\lib\\site-packages (from embedchain<0.2.0,>=0.1.98->crewai==0.28.8) (1.59.1)\n",
      "Requirement already satisfied: gitpython<4.0.0,>=3.1.38 in c:\\users\\kiru79381\\source\\repos\\techradar\\venv\\lib\\site-packages (from embedchain<0.2.0,>=0.1.98->crewai==0.28.8) (3.1.44)\n",
      "Requirement already satisfied: docstring-parser<0.16,>=0.15 in c:\\users\\kiru79381\\source\\repos\\techradar\\venv\\lib\\site-packages (from instructor<0.6.0,>=0.5.2->crewai==0.28.8) (0.15)\n",
      "Requirement already satisfied: pylance==0.9.18 in c:\\users\\kiru79381\\source\\repos\\techradar\\venv\\lib\\site-packages (from lancedb<0.6.0,>=0.5.4->crewai_tools==0.1.6) (0.9.18)\n",
      "Requirement already satisfied: retry>=0.9.2 in c:\\users\\kiru79381\\source\\repos\\techradar\\venv\\lib\\site-packages (from lancedb<0.6.0,>=0.5.4->crewai_tools==0.1.6) (0.9.2)\n",
      "Requirement already satisfied: semver>=3.0 in c:\\users\\kiru79381\\source\\repos\\techradar\\venv\\lib\\site-packages (from lancedb<0.6.0,>=0.5.4->crewai_tools==0.1.6) (3.0.4)\n",
      "Requirement already satisfied: cachetools in c:\\users\\kiru79381\\source\\repos\\techradar\\venv\\lib\\site-packages (from lancedb<0.6.0,>=0.5.4->crewai_tools==0.1.6) (5.5.2)\n",
      "Requirement already satisfied: ratelimiter~=1.0 in c:\\users\\kiru79381\\source\\repos\\techradar\\venv\\lib\\site-packages (from lancedb<0.6.0,>=0.5.4->crewai_tools==0.1.6) (1.2.0.post0)\n",
      "Requirement already satisfied: deprecation in c:\\users\\kiru79381\\source\\repos\\techradar\\venv\\lib\\site-packages (from lancedb<0.6.0,>=0.5.4->crewai_tools==0.1.6) (2.1.0)\n",
      "Requirement already satisfied: pyarrow>=12 in c:\\users\\kiru79381\\source\\repos\\techradar\\venv\\lib\\site-packages (from pylance==0.9.18->lancedb<0.6.0,>=0.5.4->crewai_tools==0.1.6) (19.0.1)\n",
      "Requirement already satisfied: jsonpatch<2.0,>=1.33 in c:\\users\\kiru79381\\source\\repos\\techradar\\venv\\lib\\site-packages (from langchain<0.2.0,>=0.1.10->crewai==0.28.8) (1.33)\n",
      "Requirement already satisfied: langchain-text-splitters<0.1,>=0.0.1 in c:\\users\\kiru79381\\source\\repos\\techradar\\venv\\lib\\site-packages (from langchain<0.2.0,>=0.1.10->crewai==0.28.8) (0.0.2)\n",
      "Requirement already satisfied: packaging<24.0,>=23.2 in c:\\users\\kiru79381\\source\\repos\\techradar\\venv\\lib\\site-packages (from langchain-core<0.2.0,>=0.1.33->langchain_community==0.0.29) (23.2)\n",
      "Requirement already satisfied: requests-toolbelt<2.0.0,>=1.0.0 in c:\\users\\kiru79381\\source\\repos\\techradar\\venv\\lib\\site-packages (from langsmith<0.2.0,>=0.1.0->langchain_community==0.0.29) (1.0.0)\n",
      "Requirement already satisfied: httpx<1,>=0.23.0 in c:\\users\\kiru79381\\source\\repos\\techradar\\venv\\lib\\site-packages (from langsmith<0.2.0,>=0.1.0->langchain_community==0.0.29) (0.28.1)\n",
      "Requirement already satisfied: sniffio in c:\\users\\kiru79381\\source\\repos\\techradar\\venv\\lib\\site-packages (from openai<2.0.0,>=1.13.3->crewai==0.28.8) (1.3.1)\n",
      "Requirement already satisfied: jiter<1,>=0.4.0 in c:\\users\\kiru79381\\source\\repos\\techradar\\venv\\lib\\site-packages (from openai<2.0.0,>=1.13.3->crewai==0.28.8) (0.9.0)\n",
      "Requirement already satisfied: distro<2,>=1.7.0 in c:\\users\\kiru79381\\source\\repos\\techradar\\venv\\lib\\site-packages (from openai<2.0.0,>=1.13.3->crewai==0.28.8) (1.9.0)\n",
      "Requirement already satisfied: anyio<5,>=3.5.0 in c:\\users\\kiru79381\\source\\repos\\techradar\\venv\\lib\\site-packages (from openai<2.0.0,>=1.13.3->crewai==0.28.8) (4.9.0)\n",
      "Requirement already satisfied: importlib-metadata<8.7.0,>=6.0 in c:\\users\\kiru79381\\source\\repos\\techradar\\venv\\lib\\site-packages (from opentelemetry-api<2.0.0,>=1.22.0->crewai==0.28.8) (8.6.1)\n",
      "Requirement already satisfied: deprecated>=1.2.6 in c:\\users\\kiru79381\\source\\repos\\techradar\\venv\\lib\\site-packages (from opentelemetry-api<2.0.0,>=1.22.0->crewai==0.28.8) (1.2.18)\n",
      "Requirement already satisfied: opentelemetry-proto==1.32.0 in c:\\users\\kiru79381\\source\\repos\\techradar\\venv\\lib\\site-packages (from opentelemetry-exporter-otlp-proto-http<2.0.0,>=1.22.0->crewai==0.28.8) (1.32.0)\n",
      "Requirement already satisfied: googleapis-common-protos~=1.52 in c:\\users\\kiru79381\\source\\repos\\techradar\\venv\\lib\\site-packages (from opentelemetry-exporter-otlp-proto-http<2.0.0,>=1.22.0->crewai==0.28.8) (1.69.2)\n",
      "Requirement already satisfied: opentelemetry-exporter-otlp-proto-common==1.32.0 in c:\\users\\kiru79381\\source\\repos\\techradar\\venv\\lib\\site-packages (from opentelemetry-exporter-otlp-proto-http<2.0.0,>=1.22.0->crewai==0.28.8) (1.32.0)\n",
      "Requirement already satisfied: protobuf<6.0,>=5.0 in c:\\users\\kiru79381\\source\\repos\\techradar\\venv\\lib\\site-packages (from opentelemetry-proto==1.32.0->opentelemetry-exporter-otlp-proto-http<2.0.0,>=1.22.0->crewai==0.28.8) (5.29.4)\n",
      "Requirement already satisfied: opentelemetry-semantic-conventions==0.53b0 in c:\\users\\kiru79381\\source\\repos\\techradar\\venv\\lib\\site-packages (from opentelemetry-sdk<2.0.0,>=1.22.0->crewai==0.28.8) (0.53b0)\n",
      "Requirement already satisfied: typing-inspection>=0.4.0 in c:\\users\\kiru79381\\source\\repos\\techradar\\venv\\lib\\site-packages (from pydantic<3.0.0,>=2.4.2->crewai==0.28.8) (0.4.0)\n",
      "Requirement already satisfied: annotated-types>=0.6.0 in c:\\users\\kiru79381\\source\\repos\\techradar\\venv\\lib\\site-packages (from pydantic<3.0.0,>=2.4.2->crewai==0.28.8) (0.7.0)\n",
      "Requirement already satisfied: pydantic-core==2.33.1 in c:\\users\\kiru79381\\source\\repos\\techradar\\venv\\lib\\site-packages (from pydantic<3.0.0,>=2.4.2->crewai==0.28.8) (2.33.1)\n",
      "Requirement already satisfied: nodeenv>=1.6.0 in c:\\users\\kiru79381\\source\\repos\\techradar\\venv\\lib\\site-packages (from pyright<2.0.0,>=1.1.350->crewai_tools==0.1.6) (1.9.1)\n",
      "Requirement already satisfied: exceptiongroup>=1.0.0rc8 in c:\\users\\kiru79381\\source\\repos\\techradar\\venv\\lib\\site-packages (from pytest<9.0.0,>=8.0.0->crewai_tools==0.1.6) (1.2.2)\n",
      "Requirement already satisfied: iniconfig in c:\\users\\kiru79381\\source\\repos\\techradar\\venv\\lib\\site-packages (from pytest<9.0.0,>=8.0.0->crewai_tools==0.1.6) (2.1.0)\n",
      "Requirement already satisfied: tomli>=1 in c:\\users\\kiru79381\\source\\repos\\techradar\\venv\\lib\\site-packages (from pytest<9.0.0,>=8.0.0->crewai_tools==0.1.6) (2.2.1)\n",
      "Requirement already satisfied: pluggy<2,>=1.5 in c:\\users\\kiru79381\\source\\repos\\techradar\\venv\\lib\\site-packages (from pytest<9.0.0,>=8.0.0->crewai_tools==0.1.6) (1.5.0)\n",
      "Requirement already satisfied: charset-normalizer<4,>=2 in c:\\users\\kiru79381\\source\\repos\\techradar\\venv\\lib\\site-packages (from requests<3.0.0,>=2.31.0->crewai_tools==0.1.6) (3.4.1)\n",
      "Requirement already satisfied: idna<4,>=2.5 in c:\\users\\kiru79381\\source\\repos\\techradar\\venv\\lib\\site-packages (from requests<3.0.0,>=2.31.0->crewai_tools==0.1.6) (3.10)\n",
      "Requirement already satisfied: certifi>=2017.4.17 in c:\\users\\kiru79381\\source\\repos\\techradar\\venv\\lib\\site-packages (from requests<3.0.0,>=2.31.0->crewai_tools==0.1.6) (2025.1.31)\n",
      "Requirement already satisfied: urllib3<3,>=1.21.1 in c:\\users\\kiru79381\\source\\repos\\techradar\\venv\\lib\\site-packages (from requests<3.0.0,>=2.31.0->crewai_tools==0.1.6) (2.4.0)\n",
      "Requirement already satisfied: websocket-client~=1.8 in c:\\users\\kiru79381\\source\\repos\\techradar\\venv\\lib\\site-packages (from selenium<5.0.0,>=4.18.1->crewai_tools==0.1.6) (1.8.0)\n",
      "Requirement already satisfied: trio~=0.17 in c:\\users\\kiru79381\\source\\repos\\techradar\\venv\\lib\\site-packages (from selenium<5.0.0,>=4.18.1->crewai_tools==0.1.6) (0.29.0)\n",
      "Requirement already satisfied: trio-websocket~=0.9 in c:\\users\\kiru79381\\source\\repos\\techradar\\venv\\lib\\site-packages (from selenium<5.0.0,>=4.18.1->crewai_tools==0.1.6) (0.12.2)\n",
      "Requirement already satisfied: greenlet>=1 in c:\\users\\kiru79381\\source\\repos\\techradar\\venv\\lib\\site-packages (from SQLAlchemy<3,>=1.4->langchain_community==0.0.29) (3.1.1)\n",
      "Requirement already satisfied: Mako in c:\\users\\kiru79381\\source\\repos\\techradar\\venv\\lib\\site-packages (from alembic<2.0.0,>=1.13.1->embedchain<0.2.0,>=0.1.98->crewai==0.28.8) (1.3.10)\n",
      "Requirement already satisfied: pyproject_hooks in c:\\users\\kiru79381\\source\\repos\\techradar\\venv\\lib\\site-packages (from build>=1.0.3->chromadb<0.5.0,>=0.4.22->crewai_tools==0.1.6) (1.2.0)\n",
      "Requirement already satisfied: clarifai-grpc>=10.11.2 in c:\\users\\kiru79381\\source\\repos\\techradar\\venv\\lib\\site-packages (from clarifai<11.0.0,>=10.0.1->embedchain<0.2.0,>=0.1.98->crewai==0.28.8) (11.3.2)\n",
      "Requirement already satisfied: clarifai-protocol>=0.0.14 in c:\\users\\kiru79381\\source\\repos\\techradar\\venv\\lib\\site-packages (from clarifai<11.0.0,>=10.0.1->embedchain<0.2.0,>=0.1.98->crewai==0.28.8) (0.0.14)\n",
      "Requirement already satisfied: inquirerpy==0.3.4 in c:\\users\\kiru79381\\source\\repos\\techradar\\venv\\lib\\site-packages (from clarifai<11.0.0,>=10.0.1->embedchain<0.2.0,>=0.1.98->crewai==0.28.8) (0.3.4)\n",
      "Requirement already satisfied: Pillow>=9.5.0 in c:\\users\\kiru79381\\source\\repos\\techradar\\venv\\lib\\site-packages (from clarifai<11.0.0,>=10.0.1->embedchain<0.2.0,>=0.1.98->crewai==0.28.8) (11.2.1)\n",
      "Requirement already satisfied: fsspec==2024.6.1 in c:\\users\\kiru79381\\source\\repos\\techradar\\venv\\lib\\site-packages (from clarifai<11.0.0,>=10.0.1->embedchain<0.2.0,>=0.1.98->crewai==0.28.8) (2024.6.1)\n",
      "Requirement already satisfied: tritonclient>=2.34.0 in c:\\users\\kiru79381\\source\\repos\\techradar\\venv\\lib\\site-packages (from clarifai<11.0.0,>=10.0.1->embedchain<0.2.0,>=0.1.98->crewai==0.28.8) (2.56.0)\n",
      "Requirement already satisfied: tabulate>=0.9.0 in c:\\users\\kiru79381\\source\\repos\\techradar\\venv\\lib\\site-packages (from clarifai<11.0.0,>=10.0.1->embedchain<0.2.0,>=0.1.98->crewai==0.28.8) (0.9.0)\n",
      "Requirement already satisfied: contextlib2>=0.5.5 in c:\\users\\kiru79381\\source\\repos\\techradar\\venv\\lib\\site-packages (from schema<0.8.0,>=0.7.5->embedchain<0.2.0,>=0.1.98->crewai==0.28.8) (21.6.0)\n",
      "Requirement already satisfied: pfzy<0.4.0,>=0.3.1 in c:\\users\\kiru79381\\source\\repos\\techradar\\venv\\lib\\site-packages (from inquirerpy==0.3.4->clarifai<11.0.0,>=10.0.1->embedchain<0.2.0,>=0.1.98->crewai==0.28.8) (0.3.4)\n",
      "Requirement already satisfied: prompt-toolkit<4.0.0,>=3.0.1 in c:\\users\\kiru79381\\source\\repos\\techradar\\venv\\lib\\site-packages (from inquirerpy==0.3.4->clarifai<11.0.0,>=10.0.1->embedchain<0.2.0,>=0.1.98->crewai==0.28.8) (3.0.50)\n",
      "Requirement already satisfied: wrapt<2,>=1.10 in c:\\users\\kiru79381\\source\\repos\\techradar\\venv\\lib\\site-packages (from deprecated>=1.2.6->opentelemetry-api<2.0.0,>=1.22.0->crewai==0.28.8) (1.17.2)\n",
      "Requirement already satisfied: starlette<0.47.0,>=0.40.0 in c:\\users\\kiru79381\\source\\repos\\techradar\\venv\\lib\\site-packages (from fastapi>=0.95.2->chromadb<0.5.0,>=0.4.22->crewai_tools==0.1.6) (0.46.1)\n",
      "Requirement already satisfied: gitdb<5,>=4.0.1 in c:\\users\\kiru79381\\source\\repos\\techradar\\venv\\lib\\site-packages (from gitpython<4.0.0,>=3.1.38->embedchain<0.2.0,>=0.1.98->crewai==0.28.8) (4.0.12)\n",
      "Requirement already satisfied: google-cloud-resource-manager<3.0.0,>=1.3.3 in c:\\users\\kiru79381\\source\\repos\\techradar\\venv\\lib\\site-packages (from google-cloud-aiplatform<2.0.0,>=1.26.1->embedchain<0.2.0,>=0.1.98->crewai==0.28.8) (1.14.2)\n",
      "Requirement already satisfied: shapely<3.0.0 in c:\\users\\kiru79381\\source\\repos\\techradar\\venv\\lib\\site-packages (from google-cloud-aiplatform<2.0.0,>=1.26.1->embedchain<0.2.0,>=0.1.98->crewai==0.28.8) (2.1.0)\n",
      "Requirement already satisfied: google-cloud-storage<3.0.0,>=1.32.0 in c:\\users\\kiru79381\\source\\repos\\techradar\\venv\\lib\\site-packages (from google-cloud-aiplatform<2.0.0,>=1.26.1->embedchain<0.2.0,>=0.1.98->crewai==0.28.8) (2.19.0)\n",
      "Requirement already satisfied: google-auth<3.0.0,>=2.14.1 in c:\\users\\kiru79381\\source\\repos\\techradar\\venv\\lib\\site-packages (from google-cloud-aiplatform<2.0.0,>=1.26.1->embedchain<0.2.0,>=0.1.98->crewai==0.28.8) (2.38.0)\n",
      "Requirement already satisfied: google-api-core[grpc]!=2.0.*,!=2.1.*,!=2.2.*,!=2.3.*,!=2.4.*,!=2.5.*,!=2.6.*,!=2.7.*,<3.0.0,>=1.34.1 in c:\\users\\kiru79381\\source\\repos\\techradar\\venv\\lib\\site-packages (from google-cloud-aiplatform<2.0.0,>=1.26.1->embedchain<0.2.0,>=0.1.98->crewai==0.28.8) (2.24.2)\n",
      "Requirement already satisfied: google-cloud-bigquery!=3.20.0,<4.0.0,>=1.15.0 in c:\\users\\kiru79381\\source\\repos\\techradar\\venv\\lib\\site-packages (from google-cloud-aiplatform<2.0.0,>=1.26.1->embedchain<0.2.0,>=0.1.98->crewai==0.28.8) (3.30.0)\n",
      "Requirement already satisfied: proto-plus<2.0.0,>=1.22.3 in c:\\users\\kiru79381\\source\\repos\\techradar\\venv\\lib\\site-packages (from google-cloud-aiplatform<2.0.0,>=1.26.1->embedchain<0.2.0,>=0.1.98->crewai==0.28.8) (1.26.1)\n",
      "Requirement already satisfied: httpcore==1.* in c:\\users\\kiru79381\\source\\repos\\techradar\\venv\\lib\\site-packages (from httpx<1,>=0.23.0->langsmith<0.2.0,>=0.1.0->langchain_community==0.0.29) (1.0.8)\n",
      "Requirement already satisfied: h11<0.15,>=0.13 in c:\\users\\kiru79381\\source\\repos\\techradar\\venv\\lib\\site-packages (from httpcore==1.*->httpx<1,>=0.23.0->langsmith<0.2.0,>=0.1.0->langchain_community==0.0.29) (0.14.0)\n",
      "Requirement already satisfied: zipp>=3.20 in c:\\users\\kiru79381\\source\\repos\\techradar\\venv\\lib\\site-packages (from importlib-metadata<8.7.0,>=6.0->opentelemetry-api<2.0.0,>=1.22.0->crewai==0.28.8) (3.21.0)\n",
      "Requirement already satisfied: jsonpointer>=1.9 in c:\\users\\kiru79381\\source\\repos\\techradar\\venv\\lib\\site-packages (from jsonpatch<2.0,>=1.33->langchain<0.2.0,>=0.1.10->crewai==0.28.8) (3.0.0)\n",
      "Requirement already satisfied: oauthlib>=3.2.2 in c:\\users\\kiru79381\\source\\repos\\techradar\\venv\\lib\\site-packages (from kubernetes>=28.1.0->chromadb<0.5.0,>=0.4.22->crewai_tools==0.1.6) (3.2.2)\n",
      "Requirement already satisfied: requests-oauthlib in c:\\users\\kiru79381\\source\\repos\\techradar\\venv\\lib\\site-packages (from kubernetes>=28.1.0->chromadb<0.5.0,>=0.4.22->crewai_tools==0.1.6) (2.0.0)\n",
      "Requirement already satisfied: durationpy>=0.7 in c:\\users\\kiru79381\\source\\repos\\techradar\\venv\\lib\\site-packages (from kubernetes>=28.1.0->chromadb<0.5.0,>=0.4.22->crewai_tools==0.1.6) (0.9)\n",
      "Requirement already satisfied: python-dateutil>=2.5.3 in c:\\users\\kiru79381\\source\\repos\\techradar\\venv\\lib\\site-packages (from kubernetes>=28.1.0->chromadb<0.5.0,>=0.4.22->crewai_tools==0.1.6) (2.9.0.post0)\n",
      "Requirement already satisfied: six>=1.9.0 in c:\\users\\kiru79381\\source\\repos\\techradar\\venv\\lib\\site-packages (from kubernetes>=28.1.0->chromadb<0.5.0,>=0.4.22->crewai_tools==0.1.6) (1.17.0)\n",
      "Requirement already satisfied: cohere<6.0,>=5.5 in c:\\users\\kiru79381\\source\\repos\\techradar\\venv\\lib\\site-packages (from langchain-cohere<0.2.0,>=0.1.4->embedchain<0.2.0,>=0.1.98->crewai==0.28.8) (5.14.2)\n",
      "Requirement already satisfied: sympy in c:\\users\\kiru79381\\source\\repos\\techradar\\venv\\lib\\site-packages (from onnxruntime>=1.14.1->chromadb<0.5.0,>=0.4.22->crewai_tools==0.1.6) (1.13.3)\n",
      "Requirement already satisfied: coloredlogs in c:\\users\\kiru79381\\source\\repos\\techradar\\venv\\lib\\site-packages (from onnxruntime>=1.14.1->chromadb<0.5.0,>=0.4.22->crewai_tools==0.1.6) (15.0.1)\n",
      "Requirement already satisfied: flatbuffers in c:\\users\\kiru79381\\source\\repos\\techradar\\venv\\lib\\site-packages (from onnxruntime>=1.14.1->chromadb<0.5.0,>=0.4.22->crewai_tools==0.1.6) (25.2.10)\n",
      "Requirement already satisfied: opentelemetry-util-http==0.53b0 in c:\\users\\kiru79381\\source\\repos\\techradar\\venv\\lib\\site-packages (from opentelemetry-instrumentation-fastapi>=0.41b0->chromadb<0.5.0,>=0.4.22->crewai_tools==0.1.6) (0.53b0)\n",
      "Requirement already satisfied: opentelemetry-instrumentation-asgi==0.53b0 in c:\\users\\kiru79381\\source\\repos\\techradar\\venv\\lib\\site-packages (from opentelemetry-instrumentation-fastapi>=0.41b0->chromadb<0.5.0,>=0.4.22->crewai_tools==0.1.6) (0.53b0)\n",
      "Requirement already satisfied: opentelemetry-instrumentation==0.53b0 in c:\\users\\kiru79381\\source\\repos\\techradar\\venv\\lib\\site-packages (from opentelemetry-instrumentation-fastapi>=0.41b0->chromadb<0.5.0,>=0.4.22->crewai_tools==0.1.6) (0.53b0)\n",
      "Requirement already satisfied: asgiref~=3.0 in c:\\users\\kiru79381\\source\\repos\\techradar\\venv\\lib\\site-packages (from opentelemetry-instrumentation-asgi==0.53b0->opentelemetry-instrumentation-fastapi>=0.41b0->chromadb<0.5.0,>=0.4.22->crewai_tools==0.1.6) (3.8.1)\n",
      "Requirement already satisfied: monotonic>=1.5 in c:\\users\\kiru79381\\source\\repos\\techradar\\venv\\lib\\site-packages (from posthog>=2.4.0->chromadb<0.5.0,>=0.4.22->crewai_tools==0.1.6) (1.6)\n",
      "Requirement already satisfied: backoff>=1.10.0 in c:\\users\\kiru79381\\source\\repos\\techradar\\venv\\lib\\site-packages (from posthog>=2.4.0->chromadb<0.5.0,>=0.4.22->crewai_tools==0.1.6) (2.2.1)\n",
      "Requirement already satisfied: pyjwt[crypto]>=2.4.0 in c:\\users\\kiru79381\\source\\repos\\techradar\\venv\\lib\\site-packages (from PyGithub<2.0.0,>=1.59.1->embedchain<0.2.0,>=0.1.98->crewai==0.28.8) (2.10.1)\n",
      "Requirement already satisfied: pynacl>=1.4.0 in c:\\users\\kiru79381\\source\\repos\\techradar\\venv\\lib\\site-packages (from PyGithub<2.0.0,>=1.59.1->embedchain<0.2.0,>=0.1.98->crewai==0.28.8) (1.5.0)\n",
      "Requirement already satisfied: decorator>=3.4.2 in c:\\users\\kiru79381\\source\\repos\\techradar\\venv\\lib\\site-packages (from retry>=0.9.2->lancedb<0.6.0,>=0.5.4->crewai_tools==0.1.6) (5.2.1)\n",
      "Requirement already satisfied: py<2.0.0,>=1.4.26 in c:\\users\\kiru79381\\source\\repos\\techradar\\venv\\lib\\site-packages (from retry>=0.9.2->lancedb<0.6.0,>=0.5.4->crewai_tools==0.1.6) (1.11.0)\n",
      "Requirement already satisfied: markdown-it-py>=2.2.0 in c:\\users\\kiru79381\\source\\repos\\techradar\\venv\\lib\\site-packages (from rich<14.0.0,>=13.7.0->embedchain<0.2.0,>=0.1.98->crewai==0.28.8) (3.0.0)\n",
      "Requirement already satisfied: pygments<3.0.0,>=2.13.0 in c:\\users\\kiru79381\\source\\repos\\techradar\\venv\\lib\\site-packages (from rich<14.0.0,>=13.7.0->embedchain<0.2.0,>=0.1.98->crewai==0.28.8) (2.19.1)\n",
      "Requirement already satisfied: huggingface-hub<1.0,>=0.16.4 in c:\\users\\kiru79381\\source\\repos\\techradar\\venv\\lib\\site-packages (from tokenizers>=0.13.2->chromadb<0.5.0,>=0.4.22->crewai_tools==0.1.6) (0.30.2)\n",
      "Requirement already satisfied: sortedcontainers in c:\\users\\kiru79381\\source\\repos\\techradar\\venv\\lib\\site-packages (from trio~=0.17->selenium<5.0.0,>=4.18.1->crewai_tools==0.1.6) (2.4.0)\n",
      "Requirement already satisfied: outcome in c:\\users\\kiru79381\\source\\repos\\techradar\\venv\\lib\\site-packages (from trio~=0.17->selenium<5.0.0,>=4.18.1->crewai_tools==0.1.6) (1.3.0.post0)\n",
      "Requirement already satisfied: cffi>=1.14 in c:\\users\\kiru79381\\source\\repos\\techradar\\venv\\lib\\site-packages (from trio~=0.17->selenium<5.0.0,>=4.18.1->crewai_tools==0.1.6) (1.17.1)\n",
      "Requirement already satisfied: wsproto>=0.14 in c:\\users\\kiru79381\\source\\repos\\techradar\\venv\\lib\\site-packages (from trio-websocket~=0.9->selenium<5.0.0,>=4.18.1->crewai_tools==0.1.6) (1.2.0)\n",
      "Requirement already satisfied: mypy-extensions>=0.3.0 in c:\\users\\kiru79381\\source\\repos\\techradar\\venv\\lib\\site-packages (from typing-inspect<1,>=0.4.0->dataclasses-json<0.7,>=0.5.7->langchain_community==0.0.29) (1.0.0)\n",
      "Requirement already satisfied: pysocks!=1.5.7,<2.0,>=1.5.6 in c:\\users\\kiru79381\\source\\repos\\techradar\\venv\\lib\\site-packages (from urllib3<3,>=1.21.1->requests<3.0.0,>=2.31.0->crewai_tools==0.1.6) (1.7.1)\n",
      "Requirement already satisfied: httptools>=0.6.3 in c:\\users\\kiru79381\\source\\repos\\techradar\\venv\\lib\\site-packages (from uvicorn[standard]>=0.18.3->chromadb<0.5.0,>=0.4.22->crewai_tools==0.1.6) (0.6.4)\n",
      "Requirement already satisfied: watchfiles>=0.13 in c:\\users\\kiru79381\\source\\repos\\techradar\\venv\\lib\\site-packages (from uvicorn[standard]>=0.18.3->chromadb<0.5.0,>=0.4.22->crewai_tools==0.1.6) (1.0.5)\n",
      "Requirement already satisfied: websockets>=10.4 in c:\\users\\kiru79381\\source\\repos\\techradar\\venv\\lib\\site-packages (from uvicorn[standard]>=0.18.3->chromadb<0.5.0,>=0.4.22->crewai_tools==0.1.6) (15.0.1)\n",
      "Requirement already satisfied: defusedxml<0.8.0,>=0.7.1 in c:\\users\\kiru79381\\source\\repos\\techradar\\venv\\lib\\site-packages (from youtube-transcript-api<0.7.0,>=0.6.1->embedchain<0.2.0,>=0.1.98->crewai==0.28.8) (0.7.1)\n",
      "Requirement already satisfied: mutagen in c:\\users\\kiru79381\\source\\repos\\techradar\\venv\\lib\\site-packages (from yt_dlp<2024.0.0,>=2023.11.14->embedchain<0.2.0,>=0.1.98->crewai==0.28.8) (1.47.0)\n",
      "Requirement already satisfied: pycryptodomex in c:\\users\\kiru79381\\source\\repos\\techradar\\venv\\lib\\site-packages (from yt_dlp<2024.0.0,>=2023.11.14->embedchain<0.2.0,>=0.1.98->crewai==0.28.8) (3.22.0)\n",
      "Requirement already satisfied: brotli in c:\\users\\kiru79381\\source\\repos\\techradar\\venv\\lib\\site-packages (from yt_dlp<2024.0.0,>=2023.11.14->embedchain<0.2.0,>=0.1.98->crewai==0.28.8) (1.1.0)\n",
      "Requirement already satisfied: pycparser in c:\\users\\kiru79381\\source\\repos\\techradar\\venv\\lib\\site-packages (from cffi>=1.14->trio~=0.17->selenium<5.0.0,>=4.18.1->crewai_tools==0.1.6) (2.22)\n",
      "Requirement already satisfied: httpx-sse==0.4.0 in c:\\users\\kiru79381\\source\\repos\\techradar\\venv\\lib\\site-packages (from cohere<6.0,>=5.5->langchain-cohere<0.2.0,>=0.1.4->embedchain<0.2.0,>=0.1.98->crewai==0.28.8) (0.4.0)\n",
      "Requirement already satisfied: fastavro<2.0.0,>=1.9.4 in c:\\users\\kiru79381\\source\\repos\\techradar\\venv\\lib\\site-packages (from cohere<6.0,>=5.5->langchain-cohere<0.2.0,>=0.1.4->embedchain<0.2.0,>=0.1.98->crewai==0.28.8) (1.10.0)\n",
      "Requirement already satisfied: types-requests<3.0.0,>=2.0.0 in c:\\users\\kiru79381\\source\\repos\\techradar\\venv\\lib\\site-packages (from cohere<6.0,>=5.5->langchain-cohere<0.2.0,>=0.1.4->embedchain<0.2.0,>=0.1.98->crewai==0.28.8) (2.32.0.20250328)\n",
      "Requirement already satisfied: smmap<6,>=3.0.1 in c:\\users\\kiru79381\\source\\repos\\techradar\\venv\\lib\\site-packages (from gitdb<5,>=4.0.1->gitpython<4.0.0,>=3.1.38->embedchain<0.2.0,>=0.1.98->crewai==0.28.8) (5.0.2)\n",
      "Requirement already satisfied: grpcio-status<2.0.dev0,>=1.33.2 in c:\\users\\kiru79381\\source\\repos\\techradar\\venv\\lib\\site-packages (from google-api-core[grpc]!=2.0.*,!=2.1.*,!=2.2.*,!=2.3.*,!=2.4.*,!=2.5.*,!=2.6.*,!=2.7.*,<3.0.0,>=1.34.1->google-cloud-aiplatform<2.0.0,>=1.26.1->embedchain<0.2.0,>=0.1.98->crewai==0.28.8) (1.71.0)\n",
      "Requirement already satisfied: rsa<5,>=3.1.4 in c:\\users\\kiru79381\\source\\repos\\techradar\\venv\\lib\\site-packages (from google-auth<3.0.0,>=2.14.1->google-cloud-aiplatform<2.0.0,>=1.26.1->embedchain<0.2.0,>=0.1.98->crewai==0.28.8) (4.9)\n",
      "Requirement already satisfied: pyasn1-modules>=0.2.1 in c:\\users\\kiru79381\\source\\repos\\techradar\\venv\\lib\\site-packages (from google-auth<3.0.0,>=2.14.1->google-cloud-aiplatform<2.0.0,>=1.26.1->embedchain<0.2.0,>=0.1.98->crewai==0.28.8) (0.4.2)\n",
      "Requirement already satisfied: google-resumable-media<3.0dev,>=2.0.0 in c:\\users\\kiru79381\\source\\repos\\techradar\\venv\\lib\\site-packages (from google-cloud-bigquery!=3.20.0,<4.0.0,>=1.15.0->google-cloud-aiplatform<2.0.0,>=1.26.1->embedchain<0.2.0,>=0.1.98->crewai==0.28.8) (2.7.2)\n",
      "Requirement already satisfied: google-cloud-core<3.0.0dev,>=2.4.1 in c:\\users\\kiru79381\\source\\repos\\techradar\\venv\\lib\\site-packages (from google-cloud-bigquery!=3.20.0,<4.0.0,>=1.15.0->google-cloud-aiplatform<2.0.0,>=1.26.1->embedchain<0.2.0,>=0.1.98->crewai==0.28.8) (2.4.3)\n",
      "Requirement already satisfied: grpc-google-iam-v1<1.0.0,>=0.14.0 in c:\\users\\kiru79381\\source\\repos\\techradar\\venv\\lib\\site-packages (from google-cloud-resource-manager<3.0.0,>=1.3.3->google-cloud-aiplatform<2.0.0,>=1.26.1->embedchain<0.2.0,>=0.1.98->crewai==0.28.8) (0.14.2)\n",
      "Requirement already satisfied: google-crc32c<2.0dev,>=1.0 in c:\\users\\kiru79381\\source\\repos\\techradar\\venv\\lib\\site-packages (from google-cloud-storage<3.0.0,>=1.32.0->google-cloud-aiplatform<2.0.0,>=1.26.1->embedchain<0.2.0,>=0.1.98->crewai==0.28.8) (1.7.1)\n",
      "Requirement already satisfied: filelock in c:\\users\\kiru79381\\source\\repos\\techradar\\venv\\lib\\site-packages (from huggingface-hub<1.0,>=0.16.4->tokenizers>=0.13.2->chromadb<0.5.0,>=0.4.22->crewai_tools==0.1.6) (3.18.0)\n",
      "Requirement already satisfied: mdurl~=0.1 in c:\\users\\kiru79381\\source\\repos\\techradar\\venv\\lib\\site-packages (from markdown-it-py>=2.2.0->rich<14.0.0,>=13.7.0->embedchain<0.2.0,>=0.1.98->crewai==0.28.8) (0.1.2)\n",
      "Requirement already satisfied: cryptography>=3.4.0 in c:\\users\\kiru79381\\source\\repos\\techradar\\venv\\lib\\site-packages (from pyjwt[crypto]>=2.4.0->PyGithub<2.0.0,>=1.59.1->embedchain<0.2.0,>=0.1.98->crewai==0.28.8) (44.0.2)\n",
      "Requirement already satisfied: python-rapidjson>=0.9.1 in c:\\users\\kiru79381\\source\\repos\\techradar\\venv\\lib\\site-packages (from tritonclient>=2.34.0->clarifai<11.0.0,>=10.0.1->embedchain<0.2.0,>=0.1.98->crewai==0.28.8) (1.20)\n",
      "Requirement already satisfied: humanfriendly>=9.1 in c:\\users\\kiru79381\\source\\repos\\techradar\\venv\\lib\\site-packages (from coloredlogs->onnxruntime>=1.14.1->chromadb<0.5.0,>=0.4.22->crewai_tools==0.1.6) (10.0)\n",
      "Requirement already satisfied: MarkupSafe>=0.9.2 in c:\\users\\kiru79381\\source\\repos\\techradar\\venv\\lib\\site-packages (from Mako->alembic<2.0.0,>=1.13.1->embedchain<0.2.0,>=0.1.98->crewai==0.28.8) (3.0.2)\n",
      "Requirement already satisfied: mpmath<1.4,>=1.1.0 in c:\\users\\kiru79381\\source\\repos\\techradar\\venv\\lib\\site-packages (from sympy->onnxruntime>=1.14.1->chromadb<0.5.0,>=0.4.22->crewai_tools==0.1.6) (1.3.0)\n",
      "Requirement already satisfied: pyreadline3 in c:\\users\\kiru79381\\source\\repos\\techradar\\venv\\lib\\site-packages (from humanfriendly>=9.1->coloredlogs->onnxruntime>=1.14.1->chromadb<0.5.0,>=0.4.22->crewai_tools==0.1.6) (3.5.4)\n",
      "Requirement already satisfied: wcwidth in c:\\users\\kiru79381\\source\\repos\\techradar\\venv\\lib\\site-packages (from prompt-toolkit<4.0.0,>=3.0.1->inquirerpy==0.3.4->clarifai<11.0.0,>=10.0.1->embedchain<0.2.0,>=0.1.98->crewai==0.28.8) (0.2.13)\n",
      "Requirement already satisfied: pyasn1<0.7.0,>=0.6.1 in c:\\users\\kiru79381\\source\\repos\\techradar\\venv\\lib\\site-packages (from pyasn1-modules>=0.2.1->google-auth<3.0.0,>=2.14.1->google-cloud-aiplatform<2.0.0,>=1.26.1->embedchain<0.2.0,>=0.1.98->crewai==0.28.8) (0.6.1)\n"
     ]
    },
    {
     "name": "stderr",
     "output_type": "stream",
     "text": [
      "\n",
      "[notice] A new release of pip is available: 23.0.1 -> 25.0.1\n",
      "[notice] To update, run: python.exe -m pip install --upgrade pip\n"
     ]
    }
   ],
   "source": [
    "!pip install crewai==0.28.8 crewai_tools==0.1.6 langchain_community==0.0.29"
   ]
  },
  {
   "cell_type": "markdown",
   "metadata": {},
   "source": [
    "The libraries are already installed in the classroom. If you're running this notebook on your own machine, you can install the following:\n",
    "```Python\n",
    "!pip install crewai==0.28.8 crewai_tools==0.1.6 langchain_community==0.0.29\n",
    "```"
   ]
  },
  {
   "cell_type": "code",
   "execution_count": 2,
   "metadata": {
    "height": 64
   },
   "outputs": [],
   "source": [
    "# Warning control\n",
    "import warnings\n",
    "warnings.filterwarnings('ignore')"
   ]
  },
  {
   "cell_type": "markdown",
   "metadata": {},
   "source": [
    "- Import from the crewAI libray."
   ]
  },
  {
   "cell_type": "code",
   "execution_count": 3,
   "metadata": {
    "height": 30
   },
   "outputs": [],
   "source": [
    "from crewai import Agent, Task, Crew"
   ]
  },
  {
   "cell_type": "markdown",
   "metadata": {},
   "source": [
    "- As a LLM for your agents, you'll be using OpenAI's `gpt-3.5-turbo`.\n",
    "\n",
    "**Optional Note:** crewAI also allow other popular models to be used as a LLM for your Agents. You can see some of the examples at the [bottom of the notebook](#1)."
   ]
  },
  {
   "cell_type": "code",
   "execution_count": 4,
   "metadata": {
    "height": 98
   },
   "outputs": [
    {
     "ename": "ImportError",
     "evalue": "cannot import name 'tool' from 'crewai.tools' (c:\\Users\\kiru79381\\source\\repos\\techradar\\venv\\lib\\site-packages\\crewai\\tools\\__init__.py)",
     "output_type": "error",
     "traceback": [
      "\u001b[1;31m---------------------------------------------------------------------------\u001b[0m",
      "\u001b[1;31mImportError\u001b[0m                               Traceback (most recent call last)",
      "Cell \u001b[1;32mIn[4], line 2\u001b[0m\n\u001b[0;32m      1\u001b[0m \u001b[38;5;28;01mimport\u001b[39;00m\u001b[38;5;250m \u001b[39m\u001b[38;5;21;01mos\u001b[39;00m\n\u001b[1;32m----> 2\u001b[0m \u001b[38;5;28;01mfrom\u001b[39;00m\u001b[38;5;250m \u001b[39m\u001b[38;5;21;01mutils\u001b[39;00m\u001b[38;5;250m \u001b[39m\u001b[38;5;28;01mimport\u001b[39;00m get_openai_api_key\n\u001b[0;32m      4\u001b[0m os\u001b[38;5;241m.\u001b[39menviron[\u001b[38;5;124m\"\u001b[39m\u001b[38;5;124mOPENAI_API_KEY\u001b[39m\u001b[38;5;124m\"\u001b[39m] \u001b[38;5;241m=\u001b[39m get_openai_api_key()\n\u001b[0;32m      5\u001b[0m os\u001b[38;5;241m.\u001b[39menviron[\u001b[38;5;124m\"\u001b[39m\u001b[38;5;124mOPENAI_MODEL_NAME\u001b[39m\u001b[38;5;124m\"\u001b[39m] \u001b[38;5;241m=\u001b[39m \u001b[38;5;124m'\u001b[39m\u001b[38;5;124mgpt-3.5-turbo\u001b[39m\u001b[38;5;124m'\u001b[39m\n",
      "File \u001b[1;32mc:\\Users\\kiru79381\\source\\repos\\techradar\\notebooks\\utils.py:7\u001b[0m\n\u001b[0;32m      5\u001b[0m \u001b[38;5;28;01mfrom\u001b[39;00m\u001b[38;5;250m \u001b[39m\u001b[38;5;21;01mtyping\u001b[39;00m\u001b[38;5;250m \u001b[39m\u001b[38;5;28;01mimport\u001b[39;00m Optional, Dict, Any\n\u001b[0;32m      6\u001b[0m \u001b[38;5;28;01mfrom\u001b[39;00m\u001b[38;5;250m \u001b[39m\u001b[38;5;21;01mcrewai\u001b[39;00m\u001b[38;5;250m \u001b[39m\u001b[38;5;28;01mimport\u001b[39;00m Agent, Task, Crew, Process\n\u001b[1;32m----> 7\u001b[0m \u001b[38;5;28;01mfrom\u001b[39;00m\u001b[38;5;250m \u001b[39m\u001b[38;5;21;01mcrewai\u001b[39;00m\u001b[38;5;21;01m.\u001b[39;00m\u001b[38;5;21;01mtools\u001b[39;00m\u001b[38;5;250m \u001b[39m\u001b[38;5;28;01mimport\u001b[39;00m tool\n\u001b[0;32m      8\u001b[0m \u001b[38;5;28;01mfrom\u001b[39;00m\u001b[38;5;250m \u001b[39m\u001b[38;5;21;01mlangchain_community\u001b[39;00m\u001b[38;5;21;01m.\u001b[39;00m\u001b[38;5;21;01mtools\u001b[39;00m\u001b[38;5;250m \u001b[39m\u001b[38;5;28;01mimport\u001b[39;00m DuckDuckGoSearchRun\n\u001b[0;32m     10\u001b[0m \u001b[38;5;28;01mdef\u001b[39;00m\u001b[38;5;250m \u001b[39m\u001b[38;5;21mload_env\u001b[39m():\n",
      "\u001b[1;31mImportError\u001b[0m: cannot import name 'tool' from 'crewai.tools' (c:\\Users\\kiru79381\\source\\repos\\techradar\\venv\\lib\\site-packages\\crewai\\tools\\__init__.py)"
     ]
    }
   ],
   "source": [
    "import os\n",
    "from utils import get_openai_api_key\n",
    "\n",
    "os.environ[\"OPENAI_API_KEY\"] = get_openai_api_key()\n",
    "os.environ[\"OPENAI_MODEL_NAME\"] = 'gpt-3.5-turbo'"
   ]
  },
  {
   "cell_type": "markdown",
   "metadata": {},
   "source": [
    "## Creating Specialized Technology Evaluator Agents"
   ]
  },
  {
   "cell_type": "markdown",
   "metadata": {},
   "source": [
    "### Agent: Backend Expert"
   ]
  },
  {
   "cell_type": "code",
   "execution_count": 51,
   "metadata": {},
   "outputs": [],
   "source": [
    "backend_expert = Agent(\n",
    "    role=\"Backend Technology Expert\",\n",
    "    goal=\"Evaluate backend technologies, libraries, and frameworks from the Technology Radar.\",\n",
    "    backstory=\"You are an experienced backend architect with 15+ years of experience evaluating and implementing server-side technologies. \"\n",
    "              \"You specialize in .NET and Python ecosystems and have deep knowledge of industry adoption trends, performance characteristics, \"\n",
    "              \"and licensing models. You're known for providing practical insights about enterprise-level adoption decisions.\",\n",
    "    allow_delegation=False,\n",
    "    max_iter=3,\n",
    "    verbose=True\n",
    ")"
   ]
  },
  {
   "cell_type": "markdown",
   "metadata": {},
   "source": [
    "### Agent: Frontend Expert"
   ]
  },
  {
   "cell_type": "code",
   "execution_count": 52,
   "metadata": {},
   "outputs": [],
   "source": [
    "frontend_expert = Agent(\n",
    "    role=\"Frontend Technology Expert\",\n",
    "    goal=\"Evaluate frontend technologies, libraries, and frameworks from the Technology Radar.\",\n",
    "    backstory=\"You are a senior frontend architect who has led multiple enterprise UI projects. \"\n",
    "              \"You specialize in Angular and modern web frameworks with expert knowledge on industry adoption, \"\n",
    "              \"community support, and licensing implications. You excel at differentiating between hype and practical value.\",\n",
    "    allow_delegation=False,\n",
    "    max_iter=3,\n",
    "    verbose=True\n",
    ")"
   ]
  },
  {
   "cell_type": "markdown",
   "metadata": {},
   "source": [
    "### Agent: Testing Expert"
   ]
  },
  {
   "cell_type": "code",
   "execution_count": 53,
   "metadata": {},
   "outputs": [],
   "source": [
    "testing_expert = Agent(\n",
    "    role=\"Testing Technology Expert\",\n",
    "    goal=\"Evaluate testing technologies, libraries, and frameworks from the Technology Radar.\",\n",
    "    backstory=\"You are a quality assurance architect with expertise in test automation strategies across the entire tech stack. \"\n",
    "              \"You have implemented testing frameworks for both frontend and backend systems and can evaluate tools based on \"\n",
    "              \"industry adoption, effectiveness, learning curve, and licensing models. You advocate for practical testing approaches.\",\n",
    "    allow_delegation=False,\n",
    "    max_iter=3,\n",
    "    verbose=True\n",
    ")"
   ]
  },
  {
   "cell_type": "markdown",
   "metadata": {},
   "source": [
    "### Agent: Technology Radar Coordinator"
   ]
  },
  {
   "cell_type": "code",
   "execution_count": 54,
   "metadata": {},
   "outputs": [],
   "source": [
    "coordinator = Agent(\n",
    "    role=\"Technology Radar Coordinator\",\n",
    "    goal=\"Synthesize insights from domain experts and produce a final technology radar report.\",\n",
    "    backstory=\"You are a technology strategist responsible for maintaining and updating technology radars for the organization. \"\n",
    "              \"You excel at synthesizing information from domain experts and can identify patterns, contradictions, and insights across domains. \"\n",
    "              \"Your job is to ensure technology recommendations are consistent and aligned with business and technical objectives.\",\n",
    "    allow_delegation=True,\n",
    "    max_iter=3,\n",
    "    verbose=True\n",
    ")"
   ]
  },
  {
   "cell_type": "markdown",
   "metadata": {},
   "source": [
    "## Creating Specialized Tasks for Technology Evaluation"
   ]
  },
  {
   "cell_type": "markdown",
   "metadata": {},
   "source": [
    "### Task: Backend Technology Evaluation"
   ]
  },
  {
   "cell_type": "code",
   "execution_count": 55,
   "metadata": {},
   "outputs": [],
   "source": [
    "# First, let's load the technology radar content for use in our tasks\n",
    "import pathlib\n",
    "\n",
    "tech_radar_path = pathlib.Path('technology-radar.md')\n",
    "tech_radar_content = tech_radar_path.read_text()\n",
    "\n",
    "backend_eval_task = Task(\n",
    "    description=(\n",
    "        \"Evaluate backend technologies, libraries, and frameworks from the provided Technology Radar document. \"\n",
    "        \"Focus on .NET and Python ecosystems mentioned in the document. For each technology:\"\n",
    "        \"\\n1. Evaluate current adoption levels in the industry\"\n",
    "        \"\\n2. Specify whether it's open-source or licensed\"\n",
    "        \"\\n3. Provide insights on why certain technologies are in their respective quadrants (Adopt, Trial, Assess, Hold)\"\n",
    "        \"\\n4. Highlight any technologies that should be moved to different quadrants based on current industry trends\"\n",
    "    ),\n",
    "    context=[{\n",
    "        \"description\": \"Technology Radar content for backend evaluation\",\n",
    "        \"expected_output\": \"A detailed analysis of backend technologies\",\n",
    "        \"technology_radar\": tech_radar_content\n",
    "    }],  # Context is now passed as a list of dictionaries with required fields\n",
    "    expected_output=\"A comprehensive analysis of backend technologies with focus on adoption trends, licensing models, and recommendations for quadrant changes.\",\n",
    "    agent=backend_expert,\n",
    ")"
   ]
  },
  {
   "cell_type": "markdown",
   "metadata": {},
   "source": [
    "### Task: Frontend Technology Evaluation"
   ]
  },
  {
   "cell_type": "code",
   "execution_count": 56,
   "metadata": {},
   "outputs": [],
   "source": [
    "frontend_eval_task = Task(\n",
    "    description=(\n",
    "        \"Evaluate frontend technologies, libraries, and frameworks from the provided Technology Radar document. \"\n",
    "        \"Focus on Angular ecosystem and other frontend technologies mentioned in the document. For each technology:\"\n",
    "        \"\\n1. Evaluate current adoption levels in the industry\"\n",
    "        \"\\n2. Specify whether it's open-source or licensed\"\n",
    "        \"\\n3. Provide insights on why certain technologies are in their respective quadrants (Adopt, Trial, Assess, Hold)\"\n",
    "        \"\\n4. Highlight any technologies that should be moved to different quadrants based on current industry trends\"\n",
    "    ),\n",
    "    context=[{\n",
    "        \"description\": \"Technology Radar content for frontend evaluation\",\n",
    "        \"expected_output\": \"A detailed analysis of frontend technologies\",\n",
    "        \"technology_radar\": tech_radar_content\n",
    "    }],\n",
    "    expected_output=\"A comprehensive analysis of frontend technologies with focus on adoption trends, licensing models, and recommendations for quadrant changes.\",\n",
    "    agent=frontend_expert,\n",
    ")"
   ]
  },
  {
   "cell_type": "markdown",
   "metadata": {},
   "source": [
    "### Task: Testing Technology Evaluation"
   ]
  },
  {
   "cell_type": "code",
   "execution_count": 57,
   "metadata": {},
   "outputs": [],
   "source": [
    "testing_eval_task = Task(\n",
    "    description=(\n",
    "        \"Evaluate testing frameworks, libraries, and tools from the provided Technology Radar document. \"\n",
    "        \"Focus on testing technologies across multiple platforms. For each technology:\"\n",
    "        \"\\n1. Evaluate current adoption levels in the industry\"\n",
    "        \"\\n2. Specify whether it's open-source or licensed\"\n",
    "        \"\\n3. Provide insights on why certain technologies are in their respective quadrants (Adopt, Trial, Assess, Hold)\"\n",
    "        \"\\n4. Highlight any technologies that should be moved to different quadrants based on current industry trends\"\n",
    "    ),\n",
    "    context=[{\n",
    "        \"description\": \"Technology Radar content for testing evaluation\",\n",
    "        \"expected_output\": \"A detailed analysis of testing technologies\",\n",
    "        \"technology_radar\": tech_radar_content\n",
    "    }],\n",
    "    expected_output=\"A comprehensive analysis of testing technologies with focus on adoption trends, licensing models, and recommendations for quadrant changes.\",\n",
    "    agent=testing_expert,\n",
    ")"
   ]
  },
  {
   "cell_type": "markdown",
   "metadata": {},
   "source": [
    "### Task: Technology Radar Summary and Recommendations"
   ]
  },
  {
   "cell_type": "code",
   "execution_count": 58,
   "metadata": {},
   "outputs": [],
   "source": [
    "coordinator_task = Task(\n",
    "    description=(\n",
    "        \"Review and synthesize the evaluations from the Backend, Frontend, and Testing experts. \"\n",
    "        \"Create a comprehensive technology radar summary that highlights:\"\n",
    "        \"\\n1. Cross-cutting trends and patterns across all domains\"\n",
    "        \"\\n2. Consolidated list of technologies that should change quadrants\"\n",
    "        \"\\n3. Licensing model insights across the technology landscape\"\n",
    "        \"\\n4. Recommendations for technology adoption strategy\"\n",
    "    ),\n",
    "    context=[],  # Empty list as initial context\n",
    "    expected_output=\"A comprehensive technology radar summary with cross-domain insights and strategic recommendations.\",\n",
    "    agent=coordinator,\n",
    "    async_execution=False,  # Added for task execution flow control\n",
    "    output_file=\"technology-radar-synthesis.md\",  # Optional output file\n",
    "    dependencies=[backend_eval_task, frontend_eval_task, testing_eval_task]  # Task dependencies\n",
    ")"
   ]
  },
  {
   "cell_type": "markdown",
   "metadata": {},
   "source": [
    "## Creating the Technology Radar Evaluation Crew\n",
    " "
   ]
  },
  {
   "cell_type": "code",
   "execution_count": 60,
   "metadata": {},
   "outputs": [],
   "source": [
    "tech_radar_crew = Crew(\n",
    "    agents=[backend_expert, frontend_expert, testing_expert, coordinator],\n",
    "    tasks=[backend_eval_task, frontend_eval_task, testing_eval_task, coordinator_task],\n",
    "    verbose=True,  # Enable verbose output\n",
    "    memory=True,  # Enable memory for agent interactions\n",
    ")"
   ]
  },
  {
   "cell_type": "markdown",
   "metadata": {},
   "source": [
    "## Running the Technology Radar Analysis Crew"
   ]
  },
  {
   "cell_type": "code",
   "execution_count": null,
   "metadata": {},
   "outputs": [],
   "source": [
    "# Execute the technology radar analysis\n",
    "# The kickoff method does not need input parameters as we've already provided context to our tasks\n",
    "tech_radar_result = tech_radar_crew.kickoff()"
   ]
  },
  {
   "cell_type": "markdown",
   "metadata": {},
   "source": [
    "## Analysis Results and Final Report"
   ]
  },
  {
   "cell_type": "code",
   "execution_count": null,
   "metadata": {},
   "outputs": [],
   "source": [
    "# Print the final coordinated technology radar report\n",
    "print(tech_radar_result)"
   ]
  },
  {
   "cell_type": "markdown",
   "metadata": {},
   "source": [
    "## Saving Results to File"
   ]
  },
  {
   "cell_type": "code",
   "execution_count": 64,
   "metadata": {},
   "outputs": [],
   "source": [
    "# Save the technology radar analysis to a file\n",
    "with open('updated-technology-radar.md', 'w') as f:\n",
    "    f.write(str(tech_radar_result))"
   ]
  },
  {
   "cell_type": "markdown",
   "metadata": {},
   "source": [
    "## Additional Analysis of Updates"
   ]
  },
  {
   "cell_type": "code",
   "execution_count": null,
   "metadata": {},
   "outputs": [],
   "source": [
    "# Display a summary of the main changes suggested by our expert agents\n",
    "print(\"Summary of Key Technology Radar Updates:\")\n",
    "print(\"-\" * 50)\n",
    "print(\"The multi-agent analysis has completed. The updated Technology Radar includes:\")\n",
    "print(\"- Evaluation of adoption levels for each technology\")\n",
    "print(\"- Open-source vs. licensed classification\")\n",
    "print(\"- Recommended quadrant changes based on current trends\")\n",
    "print(\"- Cross-domain insights and strategic recommendations\")"
   ]
  },
  {
   "cell_type": "markdown",
   "metadata": {},
   "source": [
    "## Visualization of Technology Radar Changes"
   ]
  },
  {
   "cell_type": "code",
   "execution_count": null,
   "metadata": {
    "height": 319
   },
   "outputs": [],
   "source": [
    "# Optional: If you want to visualize the technology radar changes\n",
    "# You could install and use a plotting library like matplotlib or plotly\n",
    "\n",
    "print(\"To visualize the technology radar, you could:\")\n",
    "print(\"1. Parse the updated technology radar markdown\")\n",
    "print(\"2. Extract the technologies by quadrant\")\n",
    "print(\"3. Plot them using a radar-style visualization\")\n",
    "print(\"\")\n",
    "print(\"This would require additional libraries like matplotlib or plotly.\")"
   ]
  }
 ],
 "metadata": {
  "colab": {
   "gpuType": "T4",
   "provenance": []
  },
  "kernelspec": {
   "display_name": "venv",
   "language": "python",
   "name": "python3"
  },
  "language_info": {
   "codemirror_mode": {
    "name": "ipython",
    "version": 3
   },
   "file_extension": ".py",
   "mimetype": "text/x-python",
   "name": "python",
   "nbconvert_exporter": "python",
   "pygments_lexer": "ipython3",
   "version": "3.10.11"
  }
 },
 "nbformat": 4,
 "nbformat_minor": 4
}

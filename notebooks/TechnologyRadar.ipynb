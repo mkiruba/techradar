{
 "cells": [
  {
   "cell_type": "markdown",
   "metadata": {},
   "source": [
    "You can download the `requirements.txt` for this course from the workspace of this lab. `File --> Open...`"
   ]
  },
  {
   "cell_type": "markdown",
   "metadata": {},
   "source": [
    "# Technology Radar Analysis with Multi-Agent System\n",
    "\n",
    "In this notebook, we'll create specialized agents to analyze and discuss the Technology Radar for different domains:\n",
    "\n",
    "1. **Backend Technologies, Libraries, and Frameworks**\n",
    "2. **Frontend Technologies, Libraries, and Frameworks**\n",
    "3. **Testing Technologies, Libraries, and Frameworks**\n",
    "\n",
    "Each agent will evaluate technologies based on adoption rates, industry usage trends, and licensing models (open-source vs. licensed)."
   ]
  },
  {
   "cell_type": "code",
   "execution_count": null,
   "metadata": {},
   "outputs": [],
   "source": [
    "!pip install crewai==0.28.8 crewai_tools==0.1.6 langchain_community==0.0.29"
   ]
  },
  {
   "cell_type": "markdown",
   "metadata": {},
   "source": [
    "The libraries are already installed in the classroom. If you're running this notebook on your own machine, you can install the following:\n",
    "```Python\n",
    "!pip install crewai==0.28.8 crewai_tools==0.1.6 langchain_community==0.0.29\n",
    "```"
   ]
  },
  {
   "cell_type": "code",
   "execution_count": 20,
   "metadata": {
    "height": 64
   },
   "outputs": [],
   "source": [
    "# Warning control\n",
    "import warnings\n",
    "warnings.filterwarnings('ignore')"
   ]
  },
  {
   "cell_type": "markdown",
   "metadata": {},
   "source": [
    "- Import from the crewAI libray."
   ]
  },
  {
   "cell_type": "code",
   "execution_count": 21,
   "metadata": {
    "height": 30
   },
   "outputs": [],
   "source": [
    "from crewai import Agent, Task, Crew"
   ]
  },
  {
   "cell_type": "markdown",
   "metadata": {},
   "source": [
    "- As a LLM for your agents, you'll be using OpenAI's `gpt-3.5-turbo`.\n",
    "\n",
    "**Optional Note:** crewAI also allow other popular models to be used as a LLM for your Agents. You can see some of the examples at the [bottom of the notebook](#1)."
   ]
  },
  {
   "cell_type": "code",
   "execution_count": 22,
   "metadata": {
    "height": 98
   },
   "outputs": [],
   "source": [
    "import os\n",
    "from utils import get_openai_api_key\n",
    "\n",
    "os.environ[\"OPENAI_API_KEY\"] = get_openai_api_key()\n",
    "os.environ[\"OPENAI_MODEL_NAME\"] = 'gpt-3.5-turbo'"
   ]
  },
  {
   "cell_type": "markdown",
   "metadata": {},
   "source": [
    "## Creating Specialized Technology Evaluator Agents"
   ]
  },
  {
   "cell_type": "markdown",
   "metadata": {},
   "source": [
    "### Agent: Backend Expert"
   ]
  },
  {
   "cell_type": "code",
   "execution_count": null,
   "metadata": {},
   "outputs": [],
   "source": [
    "backend_expert = Agent(\n",
    "    role=\"Backend Technology Expert\",\n",
    "    goal=\"Evaluate backend technologies, libraries, and frameworks from the Technology Radar.\",\n",
    "    backstory=\"You are an experienced backend architect with 15+ years of experience evaluating and implementing server-side technologies. \"\n",
    "              \"You specialize in .NET ecosystems and have deep knowledge of industry adoption trends, performance characteristics, \"\n",
    "              \"and licensing models. You're known for providing practical insights about enterprise-level adoption decisions.\",\n",
    "    allow_delegation=False,\n",
    "    max_iter=3,\n",
    "    verbose=True\n",
    ")"
   ]
  },
  {
   "cell_type": "markdown",
   "metadata": {},
   "source": [
    "### Agent: Frontend Expert"
   ]
  },
  {
   "cell_type": "code",
   "execution_count": 24,
   "metadata": {},
   "outputs": [],
   "source": [
    "frontend_expert = Agent(\n",
    "    role=\"Frontend Technology Expert\",\n",
    "    goal=\"Evaluate frontend technologies, libraries, and frameworks from the Technology Radar.\",\n",
    "    backstory=\"You are a senior frontend architect who has led multiple enterprise UI projects. \"\n",
    "              \"You specialize in Angular and modern web frameworks with expert knowledge on industry adoption, \"\n",
    "              \"community support, and licensing implications. You excel at differentiating between hype and practical value.\",\n",
    "    allow_delegation=False,\n",
    "    max_iter=3,\n",
    "    verbose=True\n",
    ")"
   ]
  },
  {
   "cell_type": "markdown",
   "metadata": {},
   "source": [
    "### Agent: Testing Expert"
   ]
  },
  {
   "cell_type": "code",
   "execution_count": 25,
   "metadata": {},
   "outputs": [],
   "source": [
    "testing_expert = Agent(\n",
    "    role=\"Testing Technology Expert\",\n",
    "    goal=\"Evaluate testing technologies, libraries, and frameworks from the Technology Radar.\",\n",
    "    backstory=\"You are a quality assurance architect with expertise in test automation strategies across the entire tech stack. \"\n",
    "              \"You have implemented testing frameworks for both frontend and backend systems and can evaluate tools based on \"\n",
    "              \"industry adoption, effectiveness, learning curve, and licensing models. You advocate for practical testing approaches.\",\n",
    "    allow_delegation=False,\n",
    "    max_iter=3,\n",
    "    verbose=True\n",
    ")"
   ]
  },
  {
   "cell_type": "markdown",
   "metadata": {},
   "source": [
    "### Agent: Technology Radar Coordinator"
   ]
  },
  {
   "cell_type": "code",
   "execution_count": 26,
   "metadata": {},
   "outputs": [],
   "source": [
    "coordinator = Agent(\n",
    "    role=\"Technology Radar Coordinator\",\n",
    "    goal=\"Synthesize insights from domain experts and produce a final technology radar report.\",\n",
    "    backstory=\"You are a technology strategist responsible for maintaining and updating technology radars for the organization. \"\n",
    "              \"You excel at synthesizing information from domain experts and can identify patterns, contradictions, and insights across domains. \"\n",
    "              \"Your job is to ensure technology recommendations are consistent and aligned with business and technical objectives.\",\n",
    "    allow_delegation=True,\n",
    "    max_iter=3,\n",
    "    verbose=True\n",
    ")"
   ]
  },
  {
   "cell_type": "markdown",
   "metadata": {},
   "source": [
    "## Creating Specialized Tasks for Technology Evaluation"
   ]
  },
  {
   "cell_type": "markdown",
   "metadata": {},
   "source": [
    "### Task: Backend Technology Evaluation"
   ]
  },
  {
   "cell_type": "code",
   "execution_count": null,
   "metadata": {},
   "outputs": [],
   "source": [
    "# First, let's load the technology radar content for use in our tasks\n",
    "import pathlib\n",
    "\n",
    "tech_radar_path = pathlib.Path('technology-radar.md')\n",
    "tech_radar_content = tech_radar_path.read_text()\n",
    "\n",
    "backend_eval_task = Task(\n",
    "    description=(\n",
    "        \"Evaluate backend technologies, libraries, and frameworks from the provided Technology Radar document. \"\n",
    "        \"Focus on .NET ecosystems mentioned in the document. For each technology:\"\n",
    "        \"\\n1. Evaluate current adoption levels in the industry\"\n",
    "        \"\\n2. Specify whether it's open-source or licensed\"\n",
    "        \"\\n3. Provide insights on why certain technologies are in their respective quadrants (Adopt, Trial, Assess, Hold)\"\n",
    "        \"\\n4. Highlight any technologies that should be moved to different quadrants based on current industry trends\"\n",
    "    ),\n",
    "    context=[{\n",
    "        \"description\": \"Technology Radar content for backend evaluation\",\n",
    "        \"expected_output\": \"A detailed analysis of backend technologies\",\n",
    "        \"technology_radar\": tech_radar_content\n",
    "    }],  # Context is now passed as a list of dictionaries with required fields\n",
    "    expected_output=\"A comprehensive analysis of backend technologies with focus on adoption trends, licensing models, and recommendations for quadrant changes.\",\n",
    "    agent=backend_expert,\n",
    ")"
   ]
  },
  {
   "cell_type": "markdown",
   "metadata": {},
   "source": [
    "### Task: Frontend Technology Evaluation"
   ]
  },
  {
   "cell_type": "code",
   "execution_count": 28,
   "metadata": {},
   "outputs": [],
   "source": [
    "frontend_eval_task = Task(\n",
    "    description=(\n",
    "        \"Evaluate frontend technologies, libraries, and frameworks from the provided Technology Radar document. \"\n",
    "        \"Focus on Angular ecosystem and other frontend technologies mentioned in the document. For each technology:\"\n",
    "        \"\\n1. Evaluate current adoption levels in the industry\"\n",
    "        \"\\n2. Specify whether it's open-source or licensed\"\n",
    "        \"\\n3. Provide insights on why certain technologies are in their respective quadrants (Adopt, Trial, Assess, Hold)\"\n",
    "        \"\\n4. Highlight any technologies that should be moved to different quadrants based on current industry trends\"\n",
    "    ),\n",
    "    context=[{\n",
    "        \"description\": \"Technology Radar content for frontend evaluation\",\n",
    "        \"expected_output\": \"A detailed analysis of frontend technologies\",\n",
    "        \"technology_radar\": tech_radar_content\n",
    "    }],\n",
    "    expected_output=\"A comprehensive analysis of frontend technologies with focus on adoption trends, licensing models, and recommendations for quadrant changes.\",\n",
    "    agent=frontend_expert,\n",
    ")"
   ]
  },
  {
   "cell_type": "markdown",
   "metadata": {},
   "source": [
    "### Task: Testing Technology Evaluation"
   ]
  },
  {
   "cell_type": "code",
   "execution_count": 29,
   "metadata": {},
   "outputs": [],
   "source": [
    "testing_eval_task = Task(\n",
    "    description=(\n",
    "        \"Evaluate testing frameworks, libraries, and tools from the provided Technology Radar document. \"\n",
    "        \"Focus on testing technologies across multiple platforms. For each technology:\"\n",
    "        \"\\n1. Evaluate current adoption levels in the industry\"\n",
    "        \"\\n2. Specify whether it's open-source or licensed\"\n",
    "        \"\\n3. Provide insights on why certain technologies are in their respective quadrants (Adopt, Trial, Assess, Hold)\"\n",
    "        \"\\n4. Highlight any technologies that should be moved to different quadrants based on current industry trends\"\n",
    "    ),\n",
    "    context=[{\n",
    "        \"description\": \"Technology Radar content for testing evaluation\",\n",
    "        \"expected_output\": \"A detailed analysis of testing technologies\",\n",
    "        \"technology_radar\": tech_radar_content\n",
    "    }],\n",
    "    expected_output=\"A comprehensive analysis of testing technologies with focus on adoption trends, licensing models, and recommendations for quadrant changes.\",\n",
    "    agent=testing_expert,\n",
    ")"
   ]
  },
  {
   "cell_type": "markdown",
   "metadata": {},
   "source": [
    "### Task: Technology Radar Summary and Recommendations"
   ]
  },
  {
   "cell_type": "code",
   "execution_count": 30,
   "metadata": {},
   "outputs": [],
   "source": [
    "coordinator_task = Task(\n",
    "    description=(\n",
    "        \"Review and synthesize the evaluations from the Backend, Frontend, and Testing experts. \"\n",
    "        \"Create a comprehensive technology radar summary that highlights:\"\n",
    "        \"\\n1. Cross-cutting trends and patterns across all domains\"\n",
    "        \"\\n2. Consolidated list of technologies that should change quadrants\"\n",
    "        \"\\n3. Licensing model insights across the technology landscape\"\n",
    "        \"\\n4. Recommendations for technology adoption strategy\"\n",
    "    ),\n",
    "    context=[],  # Empty list as initial context\n",
    "    expected_output=\"A comprehensive technology radar summary with cross-domain insights and strategic recommendations.\",\n",
    "    agent=coordinator,\n",
    "    async_execution=False,  # Added for task execution flow control\n",
    "    output_file=\"technology-radar-synthesis.md\",  # Optional output file\n",
    "    dependencies=[backend_eval_task, frontend_eval_task, testing_eval_task]  # Task dependencies\n",
    ")"
   ]
  },
  {
   "cell_type": "markdown",
   "metadata": {},
   "source": [
    "## Creating the Technology Radar Evaluation Crew\n",
    " "
   ]
  },
  {
   "cell_type": "code",
   "execution_count": null,
   "metadata": {},
   "outputs": [],
   "source": [
    "tech_radar_crew = Crew(\n",
    "    agents=[backend_expert, frontend_expert, testing_expert, coordinator],\n",
    "    tasks=[backend_eval_task, frontend_eval_task, testing_eval_task, coordinator_task],\n",
    "    verbose=True,  # Enable verbose output\n",
    "    memory=True,  # Enable memory for agent interactions\n",
    ")"
   ]
  },
  {
   "cell_type": "markdown",
   "metadata": {},
   "source": [
    "## Running the Technology Radar Analysis Crew"
   ]
  },
  {
   "cell_type": "code",
   "execution_count": null,
   "metadata": {},
   "outputs": [],
   "source": [
    "# Execute the technology radar analysis\n",
    "# The kickoff method does not need input parameters as we've already provided context to our tasks\n",
    "tech_radar_result = tech_radar_crew.kickoff()"
   ]
  },
  {
   "cell_type": "markdown",
   "metadata": {},
   "source": [
    "## Analysis Results and Final Report"
   ]
  },
  {
   "cell_type": "code",
   "execution_count": 33,
   "metadata": {},
   "outputs": [],
   "source": [
    "# Print the final coordinated technology radar report\n",
    "print(tech_radar_result)"
   ]
  },
  {
   "cell_type": "markdown",
   "metadata": {},
   "source": [
    "## Saving Results to File"
   ]
  },
  {
   "cell_type": "code",
   "execution_count": 34,
   "metadata": {},
   "outputs": [],
   "source": [
    "# Save the technology radar analysis to a file\n",
    "with open('updated-technology-radar.md', 'w') as f:\n",
    "    f.write(str(tech_radar_result))"
   ]
  },
  {
   "cell_type": "markdown",
   "metadata": {},
   "source": [
    "## Additional Analysis of Updates"
   ]
  },
  {
   "cell_type": "code",
   "execution_count": 35,
   "metadata": {},
   "outputs": [],
   "source": [
    "# Display a summary of the main changes suggested by our expert agents\n",
    "print(\"Summary of Key Technology Radar Updates:\")\n",
    "print(\"-\" * 50)\n",
    "print(\"The multi-agent analysis has completed. The updated Technology Radar includes:\")\n",
    "print(\"- Evaluation of adoption levels for each technology\")\n",
    "print(\"- Open-source vs. licensed classification\")\n",
    "print(\"- Recommended quadrant changes based on current trends\")\n",
    "print(\"- Cross-domain insights and strategic recommendations\")"
   ]
  },
  {
   "cell_type": "markdown",
   "metadata": {},
   "source": [
    "## Visualization of Technology Radar Changes"
   ]
  },
  {
   "cell_type": "code",
   "execution_count": 36,
   "metadata": {
    "height": 319
   },
   "outputs": [],
   "source": [
    "# Optional: If you want to visualize the technology radar changes\n",
    "# You could install and use a plotting library like matplotlib or plotly\n",
    "\n",
    "print(\"To visualize the technology radar, you could:\")\n",
    "print(\"1. Parse the updated technology radar markdown\")\n",
    "print(\"2. Extract the technologies by quadrant\")\n",
    "print(\"3. Plot them using a radar-style visualization\")\n",
    "print(\"\")\n",
    "print(\"This would require additional libraries like matplotlib or plotly.\")"
   ]
  }
 ],
 "metadata": {
  "colab": {
   "gpuType": "T4",
   "provenance": []
  },
  "kernelspec": {
   "display_name": "venv",
   "language": "python",
   "name": "python3"
  },
  "language_info": {
   "codemirror_mode": {
    "name": "ipython",
    "version": 3
   },
   "file_extension": ".py",
   "mimetype": "text/x-python",
   "name": "python",
   "nbconvert_exporter": "python",
   "pygments_lexer": "ipython3",
   "version": "3.10.11"
  }
 },
 "nbformat": 4,
 "nbformat_minor": 4
}
